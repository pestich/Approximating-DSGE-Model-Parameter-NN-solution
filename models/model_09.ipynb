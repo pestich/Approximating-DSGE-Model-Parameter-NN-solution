{
  "cells": [
    {
      "cell_type": "code",
      "execution_count": null,
      "id": "ce871806",
      "metadata": {
        "cellId": "c6mxyy6szo7boer90tzk1w"
      },
      "outputs": [],
      "source": [
        "import numpy as np\n",
        "import tensorflow as tf\n",
        "from keras.models import Sequential\n",
        "from keras.layers import Dense, LSTM, Conv2D, Flatten, Dropout, MaxPooling2D, MaxPooling3D, UpSampling2D, BatchNormalization\n",
        "from keras.optimizers import Adam\n",
        "from keras.metrics import RootMeanSquaredError\n",
        "from tensorflow.keras.optimizers import AdamW\n",
        "from tensorflow.keras import backend as K"
      ]
    },
    {
      "cell_type": "code",
      "execution_count": null,
      "id": "f60e57e6",
      "metadata": {
        "cellId": "rrmtlaolmfohlcc3kaxvs9"
      },
      "outputs": [],
      "source": [
        "X_train = np.load('../y_smp_train.npy')\n",
        "y_train = np.load('../pars_smp_train.npy')\n",
        "X_test = np.load('../y_smp_test.npy')"
      ]
    },
    {
      "cell_type": "code",
      "execution_count": null,
      "id": "63d8d69a",
      "metadata": {
        "cellId": "cedq7upspdkh6g457rcog"
      },
      "outputs": [],
      "source": [
        "X_train.shape, y_train.shape"
      ]
    },
    {
      "cell_type": "code",
      "execution_count": null,
      "id": "aa144698",
      "metadata": {
        "cellId": "pzplzcxzwlu40lw12m9ek"
      },
      "outputs": [],
      "source": [
        "#!g2.1\n",
        "def quantile_loss_9(y_true, y_pred):\n",
        "    error = y_true - y_pred\n",
        "    loss = K.mean(K.maximum(0.9 * error, (0.9 - 1) * error))\n",
        "    return loss"
      ]
    },
    {
      "cell_type": "code",
      "execution_count": null,
      "id": "b716fe95",
      "metadata": {
        "cellId": "wg3kow2ox29rbp2vzbeoig"
      },
      "outputs": [],
      "source": [
        "#!g2.1\n",
        "time_steps = 200\n",
        "num_features = 3"
      ]
    },
    {
      "cell_type": "code",
      "execution_count": null,
      "id": "d42fd312",
      "metadata": {
        "cellId": "szv3c2chmanw92d0s89t9"
      },
      "outputs": [],
      "source": [
        "#!g2.1\n",
        "model = Sequential()\n",
        "\n",
        "model.add(Conv2D(16, (3,3), activation='relu', input_shape=(200, 3, 1), padding='same'))\n",
        "model.add(UpSampling2D((2,2)))\n",
        "model.add(Conv2D(32, (3,3), activation='relu', padding='same'))\n",
        "model.add(UpSampling2D((2,2)))\n",
        "model.add(Conv2D(32, (12,6), activation='relu', strides=(6, 1)))\n",
        "model.add(MaxPooling2D(pool_size=(2, 2), padding='same'))\n",
        "model.add(Conv2D(16, (3,3), activation='relu', strides=(2, 1)))\n",
        "model.add(MaxPooling2D(pool_size=(2, 2), padding='same'))\n",
        "model.add(Flatten())\n",
        "model.add(BatchNormalization())\n",
        "model.add(Dense(128, activation='relu'))\n",
        "model.add(Dropout(0.2))\n",
        "model.add(BatchNormalization())\n",
        "model.add(Dense(64, activation='relu'))\n",
        "model.add(Dense(15))\n",
        "\n",
        "opt = AdamW(learning_rate=0.0001)\n",
        "model.compile(loss=quantile_loss_9, optimizer=opt, metrics=[RootMeanSquaredError()])"
      ]
    },
    {
      "cell_type": "code",
      "execution_count": null,
      "id": "a5c48fe0",
      "metadata": {
        "cellId": "aj627s8e085tr313drx1"
      },
      "outputs": [],
      "source": [
        "#!g2.1\n",
        "model.summary()"
      ]
    },
    {
      "cell_type": "code",
      "execution_count": null,
      "id": "b3a8bfdd",
      "metadata": {
        "cellId": "bs9152pkombaqn571c3gm"
      },
      "outputs": [],
      "source": [
        "#!g2.1\n",
        "model.fit(X_train, y_train, batch_size=128, epochs=100)"
      ]
    },
    {
      "cell_type": "code",
      "execution_count": null,
      "id": "1d508137",
      "metadata": {
        "cellId": "90slzlagf32xj6h7fooqo"
      },
      "outputs": [],
      "source": [
        "#!g2.1\n",
        "pred = model.predict(X_test)"
      ]
    },
    {
      "cell_type": "code",
      "execution_count": null,
      "id": "72686d6e",
      "metadata": {
        "cellId": "ipb7b84tkcd11d42vxou9mn"
      },
      "outputs": [],
      "source": [
        "#!g2.1\n",
        "np.save('test_pred_09', pred)"
      ]
    },
    {
      "cell_type": "code",
      "execution_count": null,
      "id": "362fc016",
      "metadata": {
        "cellId": "wehlnei28nal8hwgviiur"
      },
      "outputs": [],
      "source": [
        "#!g2.1\n",
        "model.save(\"model_09.h5\")"
      ]
    },
    {
      "cell_type": "code",
      "execution_count": null,
      "id": "9d2c1721",
      "metadata": {
        "cellId": "p95tkckde5o4fbuttakv6"
      },
      "outputs": [],
      "source": []
    },
    {
      "cell_type": "code",
      "execution_count": null,
      "id": "3208dd80",
      "metadata": {
        "cellId": "qynrdcg323dhxux8leqdl"
      },
      "outputs": [],
      "source": []
    },
    {
      "cell_type": "code",
      "execution_count": null,
      "id": "92f508d5",
      "metadata": {
        "cellId": "a8fkog07mthqntwxz6nzt"
      },
      "outputs": [],
      "source": []
    }
  ],
  "metadata": {
    "kernelspec": {
      "description": "IPython kernel implementation for DataSphere",
      "display_name": "DataSphere Kernel",
      "name": "python3",
      "resources": {},
      "spec": {
        "argv": [
          "/bin/true"
        ],
        "codemirror_mode": "python",
        "display_name": "DataSphere Kernel",
        "env": {},
        "help_links": [],
        "language": "python",
        "metadata": {
          "app": "YANDEX_DATASPHERE"
        }
      }
    },
    "language_info": {
      "codemirror_mode": {
        "name": "ipython",
        "version": 3
      },
      "file_extension": ".py",
      "mimetype": "text/x-python",
      "name": "python",
      "nbconvert_exporter": "python",
      "pygments_lexer": "ipython3",
      "version": "3.7.7"
    },
    "notebookId": "3dd42a38-6f76-43e9-aed8-9f2b13a2d174",
    "notebookPath": "models/model_09.ipynb"
  },
  "nbformat": 4,
  "nbformat_minor": 5
}
