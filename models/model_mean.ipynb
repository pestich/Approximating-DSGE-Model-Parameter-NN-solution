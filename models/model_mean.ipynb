{
 "cells": [
  {
   "cell_type": "code",
   "execution_count": 12,
   "id": "b0c1f6d0",
   "metadata": {
    "cellId": "qqtpv5weyvicyc7qyft3js"
   },
   "outputs": [
    {
     "name": "stderr",
     "output_type": "stream",
     "text": [
      "2023-10-15 04:44:38.291743: I tensorflow/core/util/port.cc:110] oneDNN custom operations are on. You may see slightly different numerical results due to floating-point round-off errors from different computation orders. To turn them off, set the environment variable `TF_ENABLE_ONEDNN_OPTS=0`.\n",
      "2023-10-15 04:44:38.337328: I tensorflow/core/platform/cpu_feature_guard.cc:182] This TensorFlow binary is optimized to use available CPU instructions in performance-critical operations.\n",
      "To enable the following instructions: AVX2 AVX512F AVX512_VNNI FMA, in other operations, rebuild TensorFlow with the appropriate compiler flags.\n",
      "2023-10-15 04:44:39.103416: W tensorflow/compiler/tf2tensorrt/utils/py_utils.cc:38] TF-TRT Warning: Could not find TensorRT\n"
     ]
    }
   ],
   "source": [
    "import numpy as np\n",
    "import tensorflow as tf\n",
    "from keras.models import Sequential\n",
    "from keras.layers import Dense, LSTM, Conv2D, Flatten, Dropout, MaxPooling2D, MaxPooling3D, UpSampling2D, BatchNormalization\n",
    "from keras.optimizers import Adam\n",
    "from keras.metrics import RootMeanSquaredError\n",
    "from tensorflow.keras.optimizers import AdamW"
   ]
  },
  {
   "cell_type": "code",
   "execution_count": 16,
   "id": "e2e4f6cb",
   "metadata": {
    "cellId": "1czxw79y2xec673rnfnwkl"
   },
   "outputs": [],
   "source": [
    "X_train = np.load('../y_smp_train.npy')\n",
    "y_train = np.load('../pars_smp_train.npy')\n",
    "X_test = np.load('../y_smp_test.npy')"
   ]
  },
  {
   "cell_type": "code",
   "execution_count": 17,
   "id": "9c90f128",
   "metadata": {
    "cellId": "pxd5ctk1yn2hg8p7m02q"
   },
   "outputs": [
    {
     "data": {
      "text/plain": [
       "((1000000, 200, 3), (1000000, 15, 1))"
      ]
     },
     "execution_count": 17,
     "metadata": {},
     "output_type": "execute_result"
    }
   ],
   "source": [
    "X_train.shape, y_train.shape"
   ]
  },
  {
   "cell_type": "code",
   "execution_count": null,
   "id": "7ae81b61",
   "metadata": {
    "cellId": "ppghkeh7flz774l6qsyad",
    "execution_id": "7e6052b2-2a16-4476-bf64-e9bac988e31b"
   },
   "outputs": [
    {
     "name": "stderr",
     "output_type": "stream",
     "text": [
      "2023-10-15 04:53:28.162343: I tensorflow/core/platform/cpu_feature_guard.cc:182] This TensorFlow binary is optimized to use available CPU instructions in performance-critical operations.\n",
      "To enable the following instructions: AVX2 FMA, in other operations, rebuild TensorFlow with the appropriate compiler flags.\n",
      "2023-10-15 04:53:28.992319: W tensorflow/compiler/tf2tensorrt/utils/py_utils.cc:38] TF-TRT Warning: Could not find TensorRT\n"
     ]
    }
   ],
   "source": [
    "#!g2.1\n",
    "model = Sequential()\n",
    "\n",
    "model.add(Conv2D(16, (3,3), activation='relu', input_shape=(200, 3, 1), padding='same'))\n",
    "model.add(UpSampling2D((2,2)))\n",
    "model.add(Conv2D(32, (3,3), activation='relu', padding='same'))\n",
    "model.add(UpSampling2D((2,2)))\n",
    "model.add(Conv2D(32, (12,6), activation='relu', strides=(6, 1)))\n",
    "model.add(MaxPooling2D(pool_size=(2, 2), padding='same'))\n",
    "model.add(Conv2D(16, (3,3), activation='relu', strides=(2, 1)))\n",
    "model.add(MaxPooling2D(pool_size=(2, 2), padding='same'))\n",
    "model.add(Flatten())\n",
    "model.add(BatchNormalization())\n",
    "model.add(Dense(128, activation='relu'))\n",
    "model.add(Dropout(0.2))\n",
    "model.add(BatchNormalization())\n",
    "model.add(Dense(64, activation='relu'))\n",
    "model.add(Dense(15))\n",
    "\n",
    "opt = AdamW(learning_rate=0.0001)\n",
    "model.compile(loss='mean_squared_error', optimizer=opt, metrics=[RootMeanSquaredError()])"
   ]
  },
  {
   "cell_type": "code",
   "execution_count": null,
   "id": "226974fe",
   "metadata": {
    "cellId": "uzunt0h3cq0avizodo4vpu",
    "execution_id": "feae69bf-3fe0-4720-9029-7aa78c31e354"
   },
   "outputs": [],
   "source": [
    "#!g2.1\n",
    "model.summary()"
   ]
  },
  {
   "cell_type": "code",
   "execution_count": null,
   "id": "205b926d",
   "metadata": {
    "cellId": "wao44smmkvh8ruv73tb8t",
    "execution_id": "60cb376e-017b-4849-8d45-2a0e8f44e57d"
   },
   "outputs": [],
   "source": [
    "#!g2.1\n",
    "model.fit(X_train, y_train, batch_size=128, epochs=25)"
   ]
  },
  {
   "cell_type": "code",
   "execution_count": null,
   "id": "c045de89",
   "metadata": {
    "cellId": "bbbm7175dgpdi4e3oyrh8m",
    "execution_id": "cab82891-7c78-421d-a198-dfdae795d483"
   },
   "outputs": [],
   "source": [
    "#!g2.1\n",
    "pred = model.predict(X_test)"
   ]
  },
  {
   "cell_type": "code",
   "execution_count": null,
   "id": "c4a1fb27",
   "metadata": {
    "cellId": "0rz307ioz1fo0h84musub0ki",
    "execution_id": "644ab5fd-c099-4174-b8a1-866a8313dfb9"
   },
   "outputs": [],
   "source": [
    "#!g2.1\n",
    "np.save('test_pred_mean', pred)"
   ]
  },
  {
   "cell_type": "code",
   "execution_count": null,
   "id": "167a0f70",
   "metadata": {
    "cellId": "ezqoh0mzrkgai8e54h4os",
    "execution_id": "d9408644-4049-42cc-acdf-d4ef08f2cc1e"
   },
   "outputs": [],
   "source": [
    "#!g2.1\n",
    "model.save(\"model_mean.h5\")"
   ]
  },
  {
   "cell_type": "code",
   "execution_count": null,
   "id": "b4cf77d0",
   "metadata": {
    "cellId": "3doagigzfxu862eqv9fvzi"
   },
   "outputs": [],
   "source": [
    "#!g2.1\n"
   ]
  }
 ],
 "metadata": {
  "language_info": {
   "codemirror_mode": {
    "name": "ipython",
    "version": 3
   },
   "file_extension": ".py",
   "mimetype": "text/x-python",
   "name": "python",
   "nbconvert_exporter": "python",
   "pygments_lexer": "ipython3",
   "version": "3.7.7"
  },
  "notebookId": "b511c3d6-920c-4e22-989e-bf8fd0bf0e47",
  "notebookPath": "models/model_mean.ipynb"
 },
 "nbformat": 4,
 "nbformat_minor": 5
}
