{
 "cells": [
  {
   "cell_type": "code",
   "execution_count": 2,
   "id": "94250f02",
   "metadata": {
    "cellId": "qqtpv5weyvicyc7qyft3js",
    "execution": {
     "iopub.execute_input": "2023-10-15T05:44:47.737202Z",
     "iopub.status.busy": "2023-10-15T05:44:47.736794Z",
     "iopub.status.idle": "2023-10-15T05:44:59.944456Z",
     "shell.execute_reply": "2023-10-15T05:44:59.943853Z",
     "shell.execute_reply.started": "2023-10-15T05:44:47.737180Z"
    },
    "tags": []
   },
   "outputs": [
    {
     "name": "stderr",
     "output_type": "stream",
     "text": [
      "2023-10-15 05:44:50.201702: I tensorflow/core/platform/cpu_feature_guard.cc:182] This TensorFlow binary is optimized to use available CPU instructions in performance-critical operations.\n",
      "To enable the following instructions: AVX2 FMA, in other operations, rebuild TensorFlow with the appropriate compiler flags.\n",
      "2023-10-15 05:44:53.818534: W tensorflow/compiler/tf2tensorrt/utils/py_utils.cc:38] TF-TRT Warning: Could not find TensorRT\n"
     ]
    }
   ],
   "source": [
    "#!g2.1\n",
    "import numpy as np\n",
    "import tensorflow as tf\n",
    "from keras.models import Sequential\n",
    "from keras.layers import Dense, LSTM, Conv2D, Flatten, Dropout, MaxPooling2D, MaxPooling3D, UpSampling2D, BatchNormalization\n",
    "from keras.optimizers import Adam\n",
    "from keras.metrics import RootMeanSquaredError\n",
    "from tensorflow.keras.optimizers import AdamW"
   ]
  },
  {
   "cell_type": "code",
   "execution_count": null,
   "id": "202c9a79",
   "metadata": {
    "cellId": "1czxw79y2xec673rnfnwkl",
    "execution": {
     "iopub.execute_input": "2023-10-15T05:44:59.945899Z",
     "iopub.status.busy": "2023-10-15T05:44:59.945356Z",
     "iopub.status.idle": "2023-10-15T05:50:46.143055Z"
    }
   },
   "outputs": [],
   "source": [
    "#!g2.1\n",
    "X_train = np.load('../y_smp_train.npy')\n",
    "y_train = np.load('../pars_smp_train.npy')\n",
    "X_test = np.load('../y_smp_test.npy')"
   ]
  },
  {
   "cell_type": "code",
   "execution_count": 5,
   "id": "1787eb8d",
   "metadata": {
    "cellId": "pxd5ctk1yn2hg8p7m02q",
    "execution": {
     "iopub.execute_input": "2023-10-15T05:53:51.592552Z",
     "iopub.status.busy": "2023-10-15T05:53:51.592134Z",
     "iopub.status.idle": "2023-10-15T05:53:51.617515Z",
     "shell.execute_reply": "2023-10-15T05:53:51.616846Z",
     "shell.execute_reply.started": "2023-10-15T05:53:51.592493Z"
    },
    "tags": []
   },
   "outputs": [
    {
     "data": {
      "text/plain": [
       "((1000000, 200, 3), (1000000, 15, 1))"
      ]
     },
     "execution_count": 5,
     "metadata": {},
     "output_type": "execute_result"
    }
   ],
   "source": [
    "X_train.shape, y_train.shape"
   ]
  },
  {
   "cell_type": "code",
   "execution_count": 17,
   "id": "1d87d3d5-fb1e-4f66-ac9e-f4af0d1589f8",
   "metadata": {
    "execution": {
     "iopub.execute_input": "2023-10-15T06:29:29.240214Z",
     "iopub.status.busy": "2023-10-15T06:29:29.239288Z",
     "iopub.status.idle": "2023-10-15T06:29:29.252238Z",
     "shell.execute_reply": "2023-10-15T06:29:29.251422Z",
     "shell.execute_reply.started": "2023-10-15T06:29:29.240185Z"
    }
   },
   "outputs": [],
   "source": [
    "from tensorflow.keras import backend as K"
   ]
  },
  {
   "cell_type": "code",
   "execution_count": 13,
   "id": "d932789e-8846-4215-9ade-2ec654aaef80",
   "metadata": {
    "execution": {
     "iopub.execute_input": "2023-10-15T06:28:52.574065Z",
     "iopub.status.busy": "2023-10-15T06:28:52.573718Z",
     "iopub.status.idle": "2023-10-15T06:28:52.607726Z",
     "shell.execute_reply": "2023-10-15T06:28:52.607030Z",
     "shell.execute_reply.started": "2023-10-15T06:28:52.574044Z"
    }
   },
   "outputs": [],
   "source": [
    "def quantile_loss_1(y_true, y_pred):\n",
    "    error = y_true - y_pred\n",
    "    loss = K.mean(K.maximum(0.1 * error, (0.1 - 1) * error))\n",
    "    return loss"
   ]
  },
  {
   "cell_type": "code",
   "execution_count": 14,
   "id": "897a27fb",
   "metadata": {
    "cellId": "ppghkeh7flz774l6qsyad",
    "execution": {
     "iopub.execute_input": "2023-10-15T06:28:58.547763Z",
     "iopub.status.busy": "2023-10-15T06:28:58.547358Z",
     "iopub.status.idle": "2023-10-15T06:28:58.657367Z",
     "shell.execute_reply": "2023-10-15T06:28:58.656596Z",
     "shell.execute_reply.started": "2023-10-15T06:28:58.547744Z"
    },
    "execution_id": "5dfd840c-6282-4157-bb43-1946e3e7aa59",
    "tags": []
   },
   "outputs": [],
   "source": [
    "#!g2.1\n",
    "model = Sequential()\n",
    "\n",
    "model.add(Conv2D(16, (3,3), activation='relu', input_shape=(200, 3, 1), padding='same'))\n",
    "model.add(UpSampling2D((2,2)))\n",
    "model.add(Conv2D(32, (3,3), activation='relu', padding='same'))\n",
    "model.add(UpSampling2D((2,2)))\n",
    "model.add(Conv2D(32, (12,6), activation='relu', strides=(6, 1)))\n",
    "model.add(MaxPooling2D(pool_size=(2, 2), padding='same'))\n",
    "model.add(Conv2D(16, (3,3), activation='relu', strides=(2, 1)))\n",
    "model.add(MaxPooling2D(pool_size=(2, 2), padding='same'))\n",
    "model.add(Flatten())\n",
    "model.add(BatchNormalization())\n",
    "model.add(Dense(128, activation='relu'))\n",
    "model.add(Dropout(0.2))\n",
    "model.add(BatchNormalization())\n",
    "model.add(Dense(64, activation='relu'))\n",
    "model.add(Dense(15))\n",
    "\n",
    "opt = AdamW(learning_rate=0.0001)\n",
    "model.compile(loss=quantile_loss_1, optimizer=opt, metrics=[RootMeanSquaredError()])"
   ]
  },
  {
   "cell_type": "code",
   "execution_count": 15,
   "id": "7154ac05",
   "metadata": {
    "cellId": "uzunt0h3cq0avizodo4vpu",
    "execution": {
     "iopub.execute_input": "2023-10-15T06:29:03.228809Z",
     "iopub.status.busy": "2023-10-15T06:29:03.228291Z",
     "iopub.status.idle": "2023-10-15T06:29:03.286787Z",
     "shell.execute_reply": "2023-10-15T06:29:03.286099Z",
     "shell.execute_reply.started": "2023-10-15T06:29:03.228788Z"
    },
    "execution_id": "b55d6b2b-3cfc-4619-bdb5-398dfb79d087",
    "tags": []
   },
   "outputs": [
    {
     "name": "stdout",
     "output_type": "stream",
     "text": [
      "Model: \"sequential_1\"\n",
      "_________________________________________________________________\n",
      " Layer (type)                Output Shape              Param #   \n",
      "=================================================================\n",
      " conv2d_4 (Conv2D)           (None, 200, 3, 16)        160       \n",
      "                                                                 \n",
      " up_sampling2d_2 (UpSampling  (None, 400, 6, 16)       0         \n",
      " 2D)                                                             \n",
      "                                                                 \n",
      " conv2d_5 (Conv2D)           (None, 400, 6, 32)        4640      \n",
      "                                                                 \n",
      " up_sampling2d_3 (UpSampling  (None, 800, 12, 32)      0         \n",
      " 2D)                                                             \n",
      "                                                                 \n",
      " conv2d_6 (Conv2D)           (None, 132, 7, 32)        73760     \n",
      "                                                                 \n",
      " max_pooling2d_2 (MaxPooling  (None, 66, 4, 32)        0         \n",
      " 2D)                                                             \n",
      "                                                                 \n",
      " conv2d_7 (Conv2D)           (None, 32, 2, 16)         4624      \n",
      "                                                                 \n",
      " max_pooling2d_3 (MaxPooling  (None, 16, 1, 16)        0         \n",
      " 2D)                                                             \n",
      "                                                                 \n",
      " flatten_1 (Flatten)         (None, 256)               0         \n",
      "                                                                 \n",
      " batch_normalization_2 (Batc  (None, 256)              1024      \n",
      " hNormalization)                                                 \n",
      "                                                                 \n",
      " dense_3 (Dense)             (None, 128)               32896     \n",
      "                                                                 \n",
      " dropout_1 (Dropout)         (None, 128)               0         \n",
      "                                                                 \n",
      " batch_normalization_3 (Batc  (None, 128)              512       \n",
      " hNormalization)                                                 \n",
      "                                                                 \n",
      " dense_4 (Dense)             (None, 64)                8256      \n",
      "                                                                 \n",
      " dense_5 (Dense)             (None, 15)                975       \n",
      "                                                                 \n",
      "=================================================================\n",
      "Total params: 126,847\n",
      "Trainable params: 126,079\n",
      "Non-trainable params: 768\n",
      "_________________________________________________________________\n"
     ]
    }
   ],
   "source": [
    "#!g2.1\n",
    "model.summary()"
   ]
  },
  {
   "cell_type": "code",
   "execution_count": 18,
   "id": "d71dd2e5",
   "metadata": {
    "cellId": "wao44smmkvh8ruv73tb8t",
    "execution": {
     "iopub.execute_input": "2023-10-15T06:29:33.259356Z",
     "iopub.status.busy": "2023-10-15T06:29:33.259055Z",
     "iopub.status.idle": "2023-10-15T06:29:38.227365Z",
     "shell.execute_reply": "2023-10-15T06:29:38.226306Z",
     "shell.execute_reply.started": "2023-10-15T06:29:33.259337Z"
    },
    "execution_id": "60cb376e-017b-4849-8d45-2a0e8f44e57d",
    "tags": []
   },
   "outputs": [
    {
     "name": "stdout",
     "output_type": "stream",
     "text": [
      "Epoch 1/25\n"
     ]
    },
    {
     "ename": "ValueError",
     "evalue": "Creating variables on a non-first call to a function decorated with tf.function.",
     "output_type": "error",
     "traceback": [
      "\u001b[0;31m---------------------------------------------------------------------------\u001b[0m",
      "\u001b[0;31mValueError\u001b[0m                                Traceback (most recent call last)",
      "\u001b[0;32m<ipython-input-18-9230b5cf6cbd>\u001b[0m in \u001b[0;36m<module>\u001b[0;34m\u001b[0m\n\u001b[0;32m----> 1\u001b[0;31m \u001b[0mmodel\u001b[0m\u001b[0;34m.\u001b[0m\u001b[0mfit\u001b[0m\u001b[0;34m(\u001b[0m\u001b[0mX_train\u001b[0m\u001b[0;34m,\u001b[0m \u001b[0my_train\u001b[0m\u001b[0;34m,\u001b[0m \u001b[0mbatch_size\u001b[0m\u001b[0;34m=\u001b[0m\u001b[0;36m128\u001b[0m\u001b[0;34m,\u001b[0m \u001b[0mepochs\u001b[0m\u001b[0;34m=\u001b[0m\u001b[0;36m25\u001b[0m\u001b[0;34m)\u001b[0m\u001b[0;34m\u001b[0m\u001b[0;34m\u001b[0m\u001b[0m\n\u001b[0m\u001b[1;32m      2\u001b[0m \u001b[0;31m#\u001b[0m\u001b[0;34m\u001b[0m\u001b[0;34m\u001b[0m\u001b[0m\n",
      "\u001b[0;32m/usr/local/lib/python3.10/dist-packages/keras/utils/traceback_utils.py\u001b[0m in \u001b[0;36merror_handler\u001b[0;34m(*args, **kwargs)\u001b[0m\n\u001b[1;32m     68\u001b[0m             \u001b[0;31m# To get the full stack trace, call:\u001b[0m\u001b[0;34m\u001b[0m\u001b[0;34m\u001b[0m\u001b[0m\n\u001b[1;32m     69\u001b[0m             \u001b[0;31m# `tf.debugging.disable_traceback_filtering()`\u001b[0m\u001b[0;34m\u001b[0m\u001b[0;34m\u001b[0m\u001b[0m\n\u001b[0;32m---> 70\u001b[0;31m             \u001b[0;32mraise\u001b[0m \u001b[0me\u001b[0m\u001b[0;34m.\u001b[0m\u001b[0mwith_traceback\u001b[0m\u001b[0;34m(\u001b[0m\u001b[0mfiltered_tb\u001b[0m\u001b[0;34m)\u001b[0m \u001b[0;32mfrom\u001b[0m \u001b[0;32mNone\u001b[0m\u001b[0;34m\u001b[0m\u001b[0;34m\u001b[0m\u001b[0m\n\u001b[0m\u001b[1;32m     71\u001b[0m         \u001b[0;32mfinally\u001b[0m\u001b[0;34m:\u001b[0m\u001b[0;34m\u001b[0m\u001b[0;34m\u001b[0m\u001b[0m\n\u001b[1;32m     72\u001b[0m             \u001b[0;32mdel\u001b[0m \u001b[0mfiltered_tb\u001b[0m\u001b[0;34m\u001b[0m\u001b[0;34m\u001b[0m\u001b[0m\n",
      "\u001b[0;32m/usr/local/lib/python3.10/dist-packages/tensorflow/python/eager/polymorphic_function/polymorphic_function.py\u001b[0m in \u001b[0;36m_call\u001b[0;34m(self, *args, **kwds)\u001b[0m\n\u001b[1;32m    933\u001b[0m       \u001b[0mresults\u001b[0m \u001b[0;34m=\u001b[0m \u001b[0mself\u001b[0m\u001b[0;34m.\u001b[0m\u001b[0m_variable_creation_fn\u001b[0m\u001b[0;34m(\u001b[0m\u001b[0;34m*\u001b[0m\u001b[0margs\u001b[0m\u001b[0;34m,\u001b[0m \u001b[0;34m**\u001b[0m\u001b[0mkwds\u001b[0m\u001b[0;34m)\u001b[0m\u001b[0;34m\u001b[0m\u001b[0;34m\u001b[0m\u001b[0m\n\u001b[1;32m    934\u001b[0m       \u001b[0;32mif\u001b[0m \u001b[0mself\u001b[0m\u001b[0;34m.\u001b[0m\u001b[0m_created_variables\u001b[0m \u001b[0;32mand\u001b[0m \u001b[0;32mnot\u001b[0m \u001b[0mALLOW_DYNAMIC_VARIABLE_CREATION\u001b[0m\u001b[0;34m:\u001b[0m\u001b[0;34m\u001b[0m\u001b[0;34m\u001b[0m\u001b[0m\n\u001b[0;32m--> 935\u001b[0;31m         raise ValueError(\"Creating variables on a non-first call to a function\"\n\u001b[0m\u001b[1;32m    936\u001b[0m                          \" decorated with tf.function.\")\n\u001b[1;32m    937\u001b[0m       \u001b[0;32mreturn\u001b[0m \u001b[0mresults\u001b[0m\u001b[0;34m\u001b[0m\u001b[0;34m\u001b[0m\u001b[0m\n",
      "\u001b[0;31mValueError\u001b[0m: Creating variables on a non-first call to a function decorated with tf.function."
     ]
    }
   ],
   "source": [
    "#!g2.1\n",
    "model.fit(X_train, y_train, batch_size=128, epochs=25)"
   ]
  },
  {
   "cell_type": "code",
   "execution_count": 10,
   "id": "3aed7446",
   "metadata": {
    "cellId": "bbbm7175dgpdi4e3oyrh8m",
    "execution": {
     "iopub.execute_input": "2023-10-15T06:28:19.427626Z",
     "iopub.status.busy": "2023-10-15T06:28:19.426857Z",
     "iopub.status.idle": "2023-10-15T06:28:26.777111Z",
     "shell.execute_reply": "2023-10-15T06:28:26.776234Z",
     "shell.execute_reply.started": "2023-10-15T06:28:19.427604Z"
    },
    "execution_id": "cab82891-7c78-421d-a198-dfdae795d483"
   },
   "outputs": [
    {
     "name": "stdout",
     "output_type": "stream",
     "text": [
      "3125/3125 [==============================] - 4s 1ms/step\n"
     ]
    }
   ],
   "source": [
    "#!g2.1\n",
    "pred = model.predict(X_test)"
   ]
  },
  {
   "cell_type": "code",
   "execution_count": 11,
   "id": "62131e0d",
   "metadata": {
    "cellId": "0rz307ioz1fo0h84musub0ki",
    "execution": {
     "iopub.execute_input": "2023-10-15T06:28:28.290347Z",
     "iopub.status.busy": "2023-10-15T06:28:28.289852Z",
     "iopub.status.idle": "2023-10-15T06:28:28.345254Z",
     "shell.execute_reply": "2023-10-15T06:28:28.344432Z",
     "shell.execute_reply.started": "2023-10-15T06:28:28.290322Z"
    },
    "execution_id": "644ab5fd-c099-4174-b8a1-866a8313dfb9"
   },
   "outputs": [],
   "source": [
    "#!g2.1\n",
    "np.save('test_pred_mean', pred)"
   ]
  },
  {
   "cell_type": "code",
   "execution_count": 12,
   "id": "ba75524e",
   "metadata": {
    "cellId": "ezqoh0mzrkgai8e54h4os",
    "execution": {
     "iopub.execute_input": "2023-10-15T06:28:30.220220Z",
     "iopub.status.busy": "2023-10-15T06:28:30.219061Z",
     "iopub.status.idle": "2023-10-15T06:28:30.373398Z",
     "shell.execute_reply": "2023-10-15T06:28:30.372510Z",
     "shell.execute_reply.started": "2023-10-15T06:28:30.220199Z"
    },
    "execution_id": "d9408644-4049-42cc-acdf-d4ef08f2cc1e"
   },
   "outputs": [],
   "source": [
    "#!g2.1\n",
    "model.save(\"model_mean.h5\")"
   ]
  },
  {
   "cell_type": "code",
   "execution_count": null,
   "id": "9af44cac",
   "metadata": {
    "cellId": "3doagigzfxu862eqv9fvzi"
   },
   "outputs": [],
   "source": [
    "#!g2.1\n"
   ]
  }
 ],
 "metadata": {
  "kernelspec": {
   "display_name": "DataSphere Kernel",
   "language": "python",
   "name": "python3"
  },
  "language_info": {
   "codemirror_mode": {
    "name": "ipython",
    "version": 3
   },
   "file_extension": ".py",
   "mimetype": "text/x-python",
   "name": "python",
   "nbconvert_exporter": "python",
   "pygments_lexer": "ipython3",
   "version": "3.7.7"
  },
  "notebookId": "b511c3d6-920c-4e22-989e-bf8fd0bf0e47",
  "notebookPath": "models/model_mean.ipynb"
 },
 "nbformat": 4,
 "nbformat_minor": 5
}
