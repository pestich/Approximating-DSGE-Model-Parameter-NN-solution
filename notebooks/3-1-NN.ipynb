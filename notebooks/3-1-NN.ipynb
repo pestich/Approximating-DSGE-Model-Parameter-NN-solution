{
 "cells": [
  {
   "cell_type": "code",
   "execution_count": 507,
   "metadata": {},
   "outputs": [],
   "source": [
    "import openai\n",
    "import numpy as np\n",
    "from keras.models import Sequential\n",
    "from keras.layers import Dense, LSTM, Conv2D, Flatten, Dropout, MaxPooling2D, UpSampling2D, BatchNormalization\n",
    "from keras.optimizers import Adam, AdamW\n",
    "from keras.metrics import RootMeanSquaredError\n",
    "import tensorflow as tf\n",
    "from sklearn.metrics import mean_absolute_error\n",
    "from sklearn.metrics import mean_squared_error\n",
    "from sklearn.metrics import mean_absolute_percentage_error\n"
   ]
  },
  {
   "cell_type": "code",
   "execution_count": 15,
   "metadata": {},
   "outputs": [],
   "source": [
    "data_x = np.load('./raw_data/train/y_smp_train.npy')\n",
    "data_y = np.load('./raw_data/train/pars_smp_train.npy')"
   ]
  },
  {
   "cell_type": "code",
   "execution_count": 16,
   "metadata": {},
   "outputs": [
    {
     "data": {
      "text/plain": [
       "((1000000, 200, 3), (1000000, 15, 1))"
      ]
     },
     "execution_count": 16,
     "metadata": {},
     "output_type": "execute_result"
    }
   ],
   "source": [
    "data_x.shape, data_y.shape"
   ]
  },
  {
   "cell_type": "code",
   "execution_count": null,
   "metadata": {},
   "outputs": [],
   "source": [
    "time_steps = 200\n",
    "num_features = 3"
   ]
  },
  {
   "cell_type": "code",
   "execution_count": 685,
   "metadata": {},
   "outputs": [],
   "source": [
    "from tensorflow.keras import backend as K"
   ]
  },
  {
   "cell_type": "code",
   "execution_count": null,
   "metadata": {},
   "outputs": [],
   "source": []
  },
  {
   "cell_type": "code",
   "execution_count": 691,
   "metadata": {},
   "outputs": [],
   "source": [
    "def quantile_loss_1(y_true, y_pred):\n",
    "    # Вычисляем абсолютную ошибку между истинными метками и предсказаниями\n",
    "    error = y_true - y_pred\n",
    "    \n",
    "    # Вычисляем потерю для данного квантиля\n",
    "    loss = K.mean(K.maximum(0.1 * error, (0.1 - 1) * error))\n",
    "    return loss"
   ]
  },
  {
   "cell_type": "code",
   "execution_count": 695,
   "metadata": {},
   "outputs": [],
   "source": [
    "from keras.losses import Huber"
   ]
  },
  {
   "cell_type": "code",
   "execution_count": 709,
   "metadata": {},
   "outputs": [],
   "source": [
    "def QuantileLoss(perc, delta=1e-4):\n",
    "    perc = np.array(perc).reshape(-1)\n",
    "    perc.sort()\n",
    "    perc = perc.reshape(1, -1)\n",
    "    def _qloss(y, pred):\n",
    "        I = tf.cast(y <= pred, tf.float32)\n",
    "        d = K.abs(y - pred)\n",
    "        correction = I * (1 - perc) + (1 - I) * perc\n",
    "        # huber loss\n",
    "        # huber = Huber()\n",
    "        huber_loss = Huber(y, pred, delta=delta)\n",
    "        # huber_loss = K.sum(correction * tf.where(d <= delta, 0.5 * d ** 2 / delta, d - 0.5 * delta), -1)\n",
    "        # order loss\n",
    "        q_order_loss = K.sum(K.maximum(0.0, pred[:, :-1] - pred[:, 1:] + 1e-6), -1)\n",
    "        return huber_loss + q_order_loss\n",
    "    return _qloss"
   ]
  },
  {
   "cell_type": "code",
   "execution_count": 701,
   "metadata": {},
   "outputs": [],
   "source": [
    "def combined_loss(quantile, delta=1e-4):\n",
    "    def loss(y_true, y_pred):\n",
    "        I = tf.cast(y_true <= y_pred, tf.float32)\n",
    "        d = tf.abs(y_true - y_pred)\n",
    "        correction = I * (1 - quantile) + (1 - I) * quantile\n",
    "        \n",
    "        # Huber loss\n",
    "        huber_loss = tf.reduce_sum(correction * tf.where(d <= delta, 0.5 * d ** 2 / delta, d - 0.5 * delta), axis=-1)\n",
    "        \n",
    "        # Quantile loss\n",
    "        quantile_loss = tf.reduce_sum(correction * d, axis=-1)\n",
    "        \n",
    "        # Combine the losses\n",
    "        combined = huber_loss + quantile_loss\n",
    "        \n",
    "        return combined\n",
    "    \n",
    "    return loss"
   ]
  },
  {
   "cell_type": "code",
   "execution_count": 689,
   "metadata": {},
   "outputs": [],
   "source": [
    "def tilted_loss(q,y,f):\n",
    "    e = (y-f)\n",
    "    return K.mean(K.maximum(q*e, (q-1)*e), axis=-1)"
   ]
  },
  {
   "cell_type": "code",
   "execution_count": 708,
   "metadata": {},
   "outputs": [],
   "source": [
    "perc_points = [0.1, 0.25, 0.5, 0.75, 0.9]"
   ]
  },
  {
   "cell_type": "code",
   "execution_count": 704,
   "metadata": {},
   "outputs": [],
   "source": [
    "perc = [0.01, 0.25, 0.5, 0.75, 0.99]\n",
    "perc = np.array(perc).reshape(-1)\n",
    "perc.sort()\n",
    "perc = perc.reshape(1, -1)"
   ]
  },
  {
   "cell_type": "code",
   "execution_count": 706,
   "metadata": {},
   "outputs": [
    {
     "data": {
      "text/plain": [
       "(1, 5)"
      ]
     },
     "execution_count": 706,
     "metadata": {},
     "output_type": "execute_result"
    }
   ],
   "source": [
    "perc.shape"
   ]
  },
  {
   "cell_type": "code",
   "execution_count": null,
   "metadata": {},
   "outputs": [],
   "source": []
  },
  {
   "cell_type": "code",
   "execution_count": 710,
   "metadata": {},
   "outputs": [],
   "source": [
    "model = Sequential()\n",
    "\n",
    "model.add(Conv2D(16, (3,3), activation='relu', input_shape=(200, 3, 1), padding='same'))\n",
    "model.add(UpSampling2D((2,2)))\n",
    "model.add(Conv2D(32, (3,3), activation='relu', padding='same'))\n",
    "model.add(UpSampling2D((2,2)))\n",
    "model.add(Conv2D(32, (12,6), activation='relu', strides=(6, 1)))\n",
    "model.add(MaxPooling2D(pool_size=(2, 2), padding='same'))\n",
    "model.add(Conv2D(16, (3,3), activation='relu', strides=(2, 1)))\n",
    "model.add(MaxPooling2D(pool_size=(2, 2), padding='same'))\n",
    "model.add(Flatten())\n",
    "model.add(BatchNormalization())\n",
    "model.add(Dense(256, activation='relu'))\n",
    "model.add(Dropout(0.5))\n",
    "model.add(Dense(128, activation='relu'))\n",
    "model.add(Dropout(0.5))\n",
    "model.add(BatchNormalization())\n",
    "model.add(Dense(64, activation='relu'))\n",
    "model.add(Dense(15))\n",
    "\n",
    "opt = AdamW(learning_rate=0.0001)\n",
    "model.compile(loss=combined_loss(0.1), optimizer=opt, metrics=[RootMeanSquaredError()])"
   ]
  },
  {
   "cell_type": "code",
   "execution_count": 711,
   "metadata": {},
   "outputs": [
    {
     "name": "stdout",
     "output_type": "stream",
     "text": [
      "Model: \"sequential_235\"\n",
      "_________________________________________________________________\n",
      " Layer (type)                Output Shape              Param #   \n",
      "=================================================================\n",
      " conv2d_671 (Conv2D)         (None, 200, 3, 16)        160       \n",
      "                                                                 \n",
      " up_sampling2d_271 (UpSampl  (None, 400, 6, 16)        0         \n",
      " ing2D)                                                          \n",
      "                                                                 \n",
      " conv2d_672 (Conv2D)         (None, 400, 6, 32)        4640      \n",
      "                                                                 \n",
      " up_sampling2d_272 (UpSampl  (None, 800, 12, 32)       0         \n",
      " ing2D)                                                          \n",
      "                                                                 \n",
      " conv2d_673 (Conv2D)         (None, 132, 7, 32)        73760     \n",
      "                                                                 \n",
      " max_pooling2d_336 (MaxPool  (None, 66, 4, 32)         0         \n",
      " ing2D)                                                          \n",
      "                                                                 \n",
      " conv2d_674 (Conv2D)         (None, 32, 2, 16)         4624      \n",
      "                                                                 \n",
      " max_pooling2d_337 (MaxPool  (None, 16, 1, 16)         0         \n",
      " ing2D)                                                          \n",
      "                                                                 \n",
      " flatten_159 (Flatten)       (None, 256)               0         \n",
      "                                                                 \n",
      " batch_normalization_164 (B  (None, 256)               1024      \n",
      " atchNormalization)                                              \n",
      "                                                                 \n",
      " dense_542 (Dense)           (None, 256)               65792     \n",
      "                                                                 \n",
      " dropout_114 (Dropout)       (None, 256)               0         \n",
      "                                                                 \n",
      " dense_543 (Dense)           (None, 128)               32896     \n",
      "                                                                 \n",
      " dropout_115 (Dropout)       (None, 128)               0         \n",
      "                                                                 \n",
      " batch_normalization_165 (B  (None, 128)               512       \n",
      " atchNormalization)                                              \n",
      "                                                                 \n",
      " dense_544 (Dense)           (None, 64)                8256      \n",
      "                                                                 \n",
      " dense_545 (Dense)           (None, 15)                975       \n",
      "                                                                 \n",
      "=================================================================\n",
      "Total params: 192639 (752.50 KB)\n",
      "Trainable params: 191871 (749.50 KB)\n",
      "Non-trainable params: 768 (3.00 KB)\n",
      "_________________________________________________________________\n"
     ]
    }
   ],
   "source": [
    "model.summary()"
   ]
  },
  {
   "cell_type": "code",
   "execution_count": 712,
   "metadata": {},
   "outputs": [],
   "source": [
    "X_train = data_x[:10000]\n",
    "y_train = data_y[:10000]\n",
    "X_val = data_x[10000:12000]\n",
    "y_val = data_y[10000:12000]\n",
    "X_test = data_x[200000:300000]\n",
    "y_test = data_y[200000:30000]"
   ]
  },
  {
   "cell_type": "code",
   "execution_count": 713,
   "metadata": {},
   "outputs": [
    {
     "data": {
      "text/plain": [
       "((10000, 200, 3), (10000, 15, 1), (2000, 200, 3), (2000, 15, 1))"
      ]
     },
     "execution_count": 713,
     "metadata": {},
     "output_type": "execute_result"
    }
   ],
   "source": [
    "X_train.shape, y_train.shape, X_val.shape, y_val.shape"
   ]
  },
  {
   "cell_type": "code",
   "execution_count": 714,
   "metadata": {},
   "outputs": [
    {
     "name": "stdout",
     "output_type": "stream",
     "text": [
      "Epoch 1/2\n",
      "313/313 [==============================] - 67s 211ms/step - loss: 5.2260 - root_mean_squared_error: 1.4040 - val_loss: 2.9598 - val_root_mean_squared_error: 1.3477\n",
      "Epoch 2/2\n",
      "313/313 [==============================] - 71s 226ms/step - loss: 3.4182 - root_mean_squared_error: 1.1880 - val_loss: 2.4659 - val_root_mean_squared_error: 1.3029\n"
     ]
    },
    {
     "data": {
      "text/plain": [
       "<keras.src.callbacks.History at 0x1af42d47510>"
      ]
     },
     "execution_count": 714,
     "metadata": {},
     "output_type": "execute_result"
    }
   ],
   "source": [
    "model.fit(X_train, y_train,\n",
    "                epochs=2,\n",
    "                validation_data=(X_val, y_val), workers=9)"
   ]
  },
  {
   "cell_type": "code",
   "execution_count": null,
   "metadata": {},
   "outputs": [],
   "source": []
  },
  {
   "cell_type": "code",
   "execution_count": 668,
   "metadata": {},
   "outputs": [
    {
     "name": "stderr",
     "output_type": "stream",
     "text": [
      "c:\\Users\\wilte\\OneDrive\\Рабочий стол\\projects\\sochi-2023\\venv\\Lib\\site-packages\\keras\\src\\engine\\training.py:3079: UserWarning: You are saving your model as an HDF5 file via `model.save()`. This file format is considered legacy. We recommend using instead the native Keras format, e.g. `model.save('my_model.keras')`.\n",
      "  saving_api.save_model(\n"
     ]
    }
   ],
   "source": [
    "model.save(\"Model_test.h5\")"
   ]
  },
  {
   "cell_type": "code",
   "execution_count": 669,
   "metadata": {},
   "outputs": [],
   "source": [
    "from keras.models import load_model"
   ]
  },
  {
   "cell_type": "code",
   "execution_count": 671,
   "metadata": {},
   "outputs": [],
   "source": [
    "model_new = load_model(\"Model_test.h5\")"
   ]
  },
  {
   "cell_type": "code",
   "execution_count": 673,
   "metadata": {},
   "outputs": [
    {
     "name": "stdout",
     "output_type": "stream",
     "text": [
      "1/1 [==============================] - 0s 103ms/step\n"
     ]
    },
    {
     "data": {
      "text/plain": [
       "array([[1.7580435 , 1.9172012 , 0.44049358, 0.47736034, 1.500695  ,\n",
       "        0.18440059, 0.9878392 , 2.571119  , 0.4447378 , 0.3627519 ,\n",
       "        0.5743027 , 0.29489222, 0.03618997, 0.06648906, 0.1102337 ]],\n",
       "      dtype=float32)"
      ]
     },
     "execution_count": 673,
     "metadata": {},
     "output_type": "execute_result"
    }
   ],
   "source": [
    "model_new.predict(X_train[99:100])"
   ]
  },
  {
   "cell_type": "code",
   "execution_count": null,
   "metadata": {},
   "outputs": [
    {
     "name": "stdout",
     "output_type": "stream",
     "text": [
      "1/1 [==============================] - 0s 67ms/step\n"
     ]
    }
   ],
   "source": [
    "pred = model.predict(X_train[99:100])"
   ]
  },
  {
   "cell_type": "code",
   "execution_count": 351,
   "metadata": {},
   "outputs": [
    {
     "data": {
      "text/plain": [
       "(1, 15)"
      ]
     },
     "execution_count": 351,
     "metadata": {},
     "output_type": "execute_result"
    }
   ],
   "source": [
    "pred.shape"
   ]
  },
  {
   "cell_type": "code",
   "execution_count": 279,
   "metadata": {},
   "outputs": [],
   "source": [
    "a = np.array(pred)"
   ]
  },
  {
   "cell_type": "code",
   "execution_count": 326,
   "metadata": {},
   "outputs": [],
   "source": [
    "random_sub = np.load('./raw_data/random_submit.npy')"
   ]
  },
  {
   "cell_type": "code",
   "execution_count": 331,
   "metadata": {},
   "outputs": [
    {
     "data": {
      "text/plain": [
       "(100000, 15, 6)"
      ]
     },
     "execution_count": 331,
     "metadata": {},
     "output_type": "execute_result"
    }
   ],
   "source": [
    "random_sub.shape"
   ]
  },
  {
   "cell_type": "code",
   "execution_count": 328,
   "metadata": {},
   "outputs": [],
   "source": [
    "a = pd.DataFrame(random_sub[0])"
   ]
  },
  {
   "cell_type": "code",
   "execution_count": 358,
   "metadata": {},
   "outputs": [],
   "source": [
    "sub1 = np.load('./submission/1.npy')"
   ]
  },
  {
   "cell_type": "code",
   "execution_count": 359,
   "metadata": {},
   "outputs": [
    {
     "data": {
      "text/plain": [
       "(100000, 15, 6)"
      ]
     },
     "execution_count": 359,
     "metadata": {},
     "output_type": "execute_result"
    }
   ],
   "source": [
    "sub1.shape"
   ]
  },
  {
   "cell_type": "code",
   "execution_count": null,
   "metadata": {},
   "outputs": [],
   "source": []
  },
  {
   "cell_type": "code",
   "execution_count": 329,
   "metadata": {},
   "outputs": [
    {
     "data": {
      "text/html": [
       "<div>\n",
       "<style scoped>\n",
       "    .dataframe tbody tr th:only-of-type {\n",
       "        vertical-align: middle;\n",
       "    }\n",
       "\n",
       "    .dataframe tbody tr th {\n",
       "        vertical-align: top;\n",
       "    }\n",
       "\n",
       "    .dataframe thead th {\n",
       "        text-align: right;\n",
       "    }\n",
       "</style>\n",
       "<table border=\"1\" class=\"dataframe\">\n",
       "  <thead>\n",
       "    <tr style=\"text-align: right;\">\n",
       "      <th></th>\n",
       "      <th>0</th>\n",
       "      <th>1</th>\n",
       "      <th>2</th>\n",
       "      <th>3</th>\n",
       "      <th>4</th>\n",
       "      <th>5</th>\n",
       "    </tr>\n",
       "  </thead>\n",
       "  <tbody>\n",
       "    <tr>\n",
       "      <th>0</th>\n",
       "      <td>1.740579</td>\n",
       "      <td>0.189885</td>\n",
       "      <td>-0.245752</td>\n",
       "      <td>-0.352857</td>\n",
       "      <td>-0.432121</td>\n",
       "      <td>-0.687127</td>\n",
       "    </tr>\n",
       "    <tr>\n",
       "      <th>1</th>\n",
       "      <td>0.498018</td>\n",
       "      <td>1.753163</td>\n",
       "      <td>-1.582503</td>\n",
       "      <td>0.555470</td>\n",
       "      <td>-2.952694</td>\n",
       "      <td>1.254703</td>\n",
       "    </tr>\n",
       "    <tr>\n",
       "      <th>2</th>\n",
       "      <td>-1.188928</td>\n",
       "      <td>0.354142</td>\n",
       "      <td>1.682241</td>\n",
       "      <td>-0.209834</td>\n",
       "      <td>0.178970</td>\n",
       "      <td>-0.262190</td>\n",
       "    </tr>\n",
       "    <tr>\n",
       "      <th>3</th>\n",
       "      <td>-0.594227</td>\n",
       "      <td>-1.411590</td>\n",
       "      <td>-1.275111</td>\n",
       "      <td>-0.639211</td>\n",
       "      <td>-0.176287</td>\n",
       "      <td>0.648948</td>\n",
       "    </tr>\n",
       "    <tr>\n",
       "      <th>4</th>\n",
       "      <td>0.135326</td>\n",
       "      <td>-0.576863</td>\n",
       "      <td>0.199233</td>\n",
       "      <td>0.358695</td>\n",
       "      <td>-1.045038</td>\n",
       "      <td>0.067812</td>\n",
       "    </tr>\n",
       "    <tr>\n",
       "      <th>5</th>\n",
       "      <td>-1.132443</td>\n",
       "      <td>-0.920505</td>\n",
       "      <td>-0.425666</td>\n",
       "      <td>1.933943</td>\n",
       "      <td>-0.425191</td>\n",
       "      <td>0.368368</td>\n",
       "    </tr>\n",
       "    <tr>\n",
       "      <th>6</th>\n",
       "      <td>-0.373851</td>\n",
       "      <td>-0.178573</td>\n",
       "      <td>-0.642971</td>\n",
       "      <td>1.587044</td>\n",
       "      <td>-1.431810</td>\n",
       "      <td>0.386378</td>\n",
       "    </tr>\n",
       "    <tr>\n",
       "      <th>7</th>\n",
       "      <td>-0.243564</td>\n",
       "      <td>-0.470445</td>\n",
       "      <td>1.554300</td>\n",
       "      <td>-1.710335</td>\n",
       "      <td>-0.056500</td>\n",
       "      <td>0.482639</td>\n",
       "    </tr>\n",
       "    <tr>\n",
       "      <th>8</th>\n",
       "      <td>-0.222726</td>\n",
       "      <td>-0.090573</td>\n",
       "      <td>0.188107</td>\n",
       "      <td>-0.142399</td>\n",
       "      <td>0.355254</td>\n",
       "      <td>-0.484876</td>\n",
       "    </tr>\n",
       "    <tr>\n",
       "      <th>9</th>\n",
       "      <td>-0.728160</td>\n",
       "      <td>-0.880158</td>\n",
       "      <td>-0.492981</td>\n",
       "      <td>0.256155</td>\n",
       "      <td>0.370332</td>\n",
       "      <td>0.202764</td>\n",
       "    </tr>\n",
       "    <tr>\n",
       "      <th>10</th>\n",
       "      <td>-0.366041</td>\n",
       "      <td>-0.042073</td>\n",
       "      <td>0.216970</td>\n",
       "      <td>-0.376970</td>\n",
       "      <td>-0.434790</td>\n",
       "      <td>0.082833</td>\n",
       "    </tr>\n",
       "    <tr>\n",
       "      <th>11</th>\n",
       "      <td>-0.737350</td>\n",
       "      <td>0.953808</td>\n",
       "      <td>0.905154</td>\n",
       "      <td>-0.736091</td>\n",
       "      <td>-0.481109</td>\n",
       "      <td>-0.643900</td>\n",
       "    </tr>\n",
       "    <tr>\n",
       "      <th>12</th>\n",
       "      <td>-0.108116</td>\n",
       "      <td>1.944903</td>\n",
       "      <td>1.544897</td>\n",
       "      <td>0.276132</td>\n",
       "      <td>0.261493</td>\n",
       "      <td>0.427883</td>\n",
       "    </tr>\n",
       "    <tr>\n",
       "      <th>13</th>\n",
       "      <td>-0.011546</td>\n",
       "      <td>0.609352</td>\n",
       "      <td>-0.027176</td>\n",
       "      <td>0.920570</td>\n",
       "      <td>-0.244326</td>\n",
       "      <td>-0.982453</td>\n",
       "    </tr>\n",
       "    <tr>\n",
       "      <th>14</th>\n",
       "      <td>1.757325</td>\n",
       "      <td>-0.936906</td>\n",
       "      <td>-0.046747</td>\n",
       "      <td>0.860066</td>\n",
       "      <td>0.795342</td>\n",
       "      <td>0.689777</td>\n",
       "    </tr>\n",
       "  </tbody>\n",
       "</table>\n",
       "</div>"
      ],
      "text/plain": [
       "           0         1         2         3         4         5\n",
       "0   1.740579  0.189885 -0.245752 -0.352857 -0.432121 -0.687127\n",
       "1   0.498018  1.753163 -1.582503  0.555470 -2.952694  1.254703\n",
       "2  -1.188928  0.354142  1.682241 -0.209834  0.178970 -0.262190\n",
       "3  -0.594227 -1.411590 -1.275111 -0.639211 -0.176287  0.648948\n",
       "4   0.135326 -0.576863  0.199233  0.358695 -1.045038  0.067812\n",
       "5  -1.132443 -0.920505 -0.425666  1.933943 -0.425191  0.368368\n",
       "6  -0.373851 -0.178573 -0.642971  1.587044 -1.431810  0.386378\n",
       "7  -0.243564 -0.470445  1.554300 -1.710335 -0.056500  0.482639\n",
       "8  -0.222726 -0.090573  0.188107 -0.142399  0.355254 -0.484876\n",
       "9  -0.728160 -0.880158 -0.492981  0.256155  0.370332  0.202764\n",
       "10 -0.366041 -0.042073  0.216970 -0.376970 -0.434790  0.082833\n",
       "11 -0.737350  0.953808  0.905154 -0.736091 -0.481109 -0.643900\n",
       "12 -0.108116  1.944903  1.544897  0.276132  0.261493  0.427883\n",
       "13 -0.011546  0.609352 -0.027176  0.920570 -0.244326 -0.982453\n",
       "14  1.757325 -0.936906 -0.046747  0.860066  0.795342  0.689777"
      ]
     },
     "execution_count": 329,
     "metadata": {},
     "output_type": "execute_result"
    }
   ],
   "source": [
    "a"
   ]
  },
  {
   "cell_type": "code",
   "execution_count": 330,
   "metadata": {},
   "outputs": [],
   "source": [
    "import pandas as pd"
   ]
  },
  {
   "cell_type": "code",
   "execution_count": null,
   "metadata": {},
   "outputs": [],
   "source": []
  },
  {
   "cell_type": "code",
   "execution_count": null,
   "metadata": {},
   "outputs": [],
   "source": [
    "np.save('test_sub', a)"
   ]
  }
 ],
 "metadata": {
  "kernelspec": {
   "display_name": "venv",
   "language": "python",
   "name": "python3"
  },
  "language_info": {
   "codemirror_mode": {
    "name": "ipython",
    "version": 3
   },
   "file_extension": ".py",
   "mimetype": "text/x-python",
   "name": "python",
   "nbconvert_exporter": "python",
   "pygments_lexer": "ipython3",
   "version": "3.11.2"
  }
 },
 "nbformat": 4,
 "nbformat_minor": 2
}
