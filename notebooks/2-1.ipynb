{
 "cells": [
  {
   "cell_type": "code",
   "execution_count": 16,
   "metadata": {},
   "outputs": [],
   "source": [
    "import pandas as pd\n",
    "import numpy as np\n",
    "import seaborn as sns\n",
    "import matplotlib.pyplot as plt\n",
    "\n",
    "from sklearn.decomposition import PCA\n",
    "from catboost import CatBoostRegressor\n",
    "from sklearn.linear_model import LinearRegression\n",
    "from sklearn.preprocessing import StandardScaler\n",
    "from sklearn.metrics import mean_absolute_error\n",
    "from sklearn.metrics import mean_squared_error\n",
    "from sklearn.metrics import mean_absolute_percentage_error\n",
    "from tqdm import tqdm\n",
    "tqdm.pandas()"
   ]
  },
  {
   "cell_type": "code",
   "execution_count": 2,
   "metadata": {},
   "outputs": [],
   "source": [
    "data_x = np.load('./raw_data/train/y_smp_train.npy')\n",
    "data_y = np.load('./raw_data/train/pars_smp_train.npy')"
   ]
  },
  {
   "cell_type": "code",
   "execution_count": 3,
   "metadata": {},
   "outputs": [
    {
     "data": {
      "text/plain": [
       "((1000000, 200, 3), (1000000, 15, 1))"
      ]
     },
     "execution_count": 3,
     "metadata": {},
     "output_type": "execute_result"
    }
   ],
   "source": [
    "data_x.shape, data_y.shape"
   ]
  },
  {
   "cell_type": "code",
   "execution_count": 4,
   "metadata": {},
   "outputs": [],
   "source": [
    "# создаем признаки для обучения \n",
    "# Параметр N - количество наборов данных из большого файла \n",
    "def create_X(n: int) -> pd.DataFrame:\n",
    "    global data_x\n",
    "    # генерируем название столбцов. Это пригодится, если понадобиться делать срезы по столбцам\n",
    "    cols = list()\n",
    "    for i in range(1, 201):\n",
    "        col = f'x{i}'\n",
    "        cols.append(col)\n",
    "    # создаем пустой датафрейм\n",
    "    result = pd.DataFrame(columns=cols)\n",
    "    for i in tqdm(range(n)):\n",
    "        # выбираем из большого файла один семпл\n",
    "        temp_x = data_x[i]\n",
    "        temp_x = pd.DataFrame(temp_x)\n",
    "        # транспонируем данные\n",
    "        temp_x = temp_x.T\n",
    "        temp_x.columns = cols\n",
    "        # обединяем результирующий датафрейм с датафреймом одного сэмпла\n",
    "        result = pd.concat([result, temp_x])\n",
    "    result = result.reset_index(drop=True)\n",
    "    return result\n",
    "    "
   ]
  },
  {
   "cell_type": "code",
   "execution_count": 78,
   "metadata": {},
   "outputs": [],
   "source": [
    "# создаем таргет для обучения \n",
    "# Параметр N - количество наборов данных из большого файла \n",
    "# Параметр num - номер целевого параметра от 0 до 14 \n",
    "def create_y(n: int, num: int) -> pd.DataFrame:\n",
    "    global data_y\n",
    "    # создаем пустой датафрейм\n",
    "    result = pd.DataFrame(columns=['y'])\n",
    "    for i in tqdm(range(n)):\n",
    "        temp_y = list()\n",
    "        temp = data_y[i][num]\n",
    "        for _ in range(3):\n",
    "            temp_y.append(temp)\n",
    "        temp_y = pd.DataFrame(temp_y, columns=['y'])\n",
    "        # обединяем результирующий датафрейм с датафреймом одного сэмпла\n",
    "        result = pd.concat([result, temp_y])\n",
    "    result = result.reset_index(drop=True)\n",
    "    return result    \n",
    "\n"
   ]
  },
  {
   "cell_type": "code",
   "execution_count": 79,
   "metadata": {},
   "outputs": [
    {
     "name": "stderr",
     "output_type": "stream",
     "text": [
      "  0%|          | 0/10000 [00:00<?, ?it/s]C:\\Users\\wilte\\AppData\\Local\\Temp\\ipykernel_19784\\3924833446.py:20: FutureWarning: The behavior of DataFrame concatenation with empty or all-NA entries is deprecated. In a future version, this will no longer exclude empty or all-NA columns when determining the result dtypes. To retain the old behavior, exclude the relevant entries before the concat operation.\n",
      "  result = pd.concat([result, temp_x])\n",
      "100%|██████████| 10000/10000 [01:15<00:00, 132.55it/s]\n",
      "  0%|          | 0/10000 [00:00<?, ?it/s]C:\\Users\\wilte\\AppData\\Local\\Temp\\ipykernel_19784\\340263733.py:15: FutureWarning: The behavior of DataFrame concatenation with empty or all-NA entries is deprecated. In a future version, this will no longer exclude empty or all-NA columns when determining the result dtypes. To retain the old behavior, exclude the relevant entries before the concat operation.\n",
      "  result = pd.concat([result, temp_y])\n",
      "100%|██████████| 10000/10000 [00:01<00:00, 5592.92it/s]\n"
     ]
    }
   ],
   "source": [
    "X = create_X(10000)\n",
    "y = create_y(10000, 0)"
   ]
  },
  {
   "cell_type": "code",
   "execution_count": 7,
   "metadata": {},
   "outputs": [
    {
     "data": {
      "text/html": [
       "<div>\n",
       "<style scoped>\n",
       "    .dataframe tbody tr th:only-of-type {\n",
       "        vertical-align: middle;\n",
       "    }\n",
       "\n",
       "    .dataframe tbody tr th {\n",
       "        vertical-align: top;\n",
       "    }\n",
       "\n",
       "    .dataframe thead th {\n",
       "        text-align: right;\n",
       "    }\n",
       "</style>\n",
       "<table border=\"1\" class=\"dataframe\">\n",
       "  <thead>\n",
       "    <tr style=\"text-align: right;\">\n",
       "      <th></th>\n",
       "      <th>x1</th>\n",
       "      <th>x2</th>\n",
       "      <th>x3</th>\n",
       "      <th>x4</th>\n",
       "      <th>x5</th>\n",
       "      <th>x6</th>\n",
       "      <th>x7</th>\n",
       "      <th>x8</th>\n",
       "      <th>x9</th>\n",
       "      <th>x10</th>\n",
       "      <th>...</th>\n",
       "      <th>x191</th>\n",
       "      <th>x192</th>\n",
       "      <th>x193</th>\n",
       "      <th>x194</th>\n",
       "      <th>x195</th>\n",
       "      <th>x196</th>\n",
       "      <th>x197</th>\n",
       "      <th>x198</th>\n",
       "      <th>x199</th>\n",
       "      <th>x200</th>\n",
       "    </tr>\n",
       "  </thead>\n",
       "  <tbody>\n",
       "    <tr>\n",
       "      <th>0</th>\n",
       "      <td>1.142330</td>\n",
       "      <td>-0.484040</td>\n",
       "      <td>0.665750</td>\n",
       "      <td>0.583209</td>\n",
       "      <td>2.084426</td>\n",
       "      <td>0.401561</td>\n",
       "      <td>0.168327</td>\n",
       "      <td>-0.454143</td>\n",
       "      <td>0.478470</td>\n",
       "      <td>0.438122</td>\n",
       "      <td>...</td>\n",
       "      <td>0.643380</td>\n",
       "      <td>0.157000</td>\n",
       "      <td>-0.749465</td>\n",
       "      <td>-0.782891</td>\n",
       "      <td>2.025607</td>\n",
       "      <td>-1.170654</td>\n",
       "      <td>-0.042919</td>\n",
       "      <td>-0.756649</td>\n",
       "      <td>1.665564</td>\n",
       "      <td>2.243377</td>\n",
       "    </tr>\n",
       "    <tr>\n",
       "      <th>1</th>\n",
       "      <td>0.874308</td>\n",
       "      <td>0.619367</td>\n",
       "      <td>0.672932</td>\n",
       "      <td>0.702434</td>\n",
       "      <td>0.785465</td>\n",
       "      <td>0.790633</td>\n",
       "      <td>0.803624</td>\n",
       "      <td>0.910571</td>\n",
       "      <td>0.822872</td>\n",
       "      <td>0.710248</td>\n",
       "      <td>...</td>\n",
       "      <td>1.003370</td>\n",
       "      <td>1.089460</td>\n",
       "      <td>0.974689</td>\n",
       "      <td>0.813481</td>\n",
       "      <td>1.049336</td>\n",
       "      <td>0.886007</td>\n",
       "      <td>0.699045</td>\n",
       "      <td>0.621691</td>\n",
       "      <td>0.925140</td>\n",
       "      <td>1.166110</td>\n",
       "    </tr>\n",
       "    <tr>\n",
       "      <th>2</th>\n",
       "      <td>1.446090</td>\n",
       "      <td>1.179399</td>\n",
       "      <td>1.148514</td>\n",
       "      <td>1.185959</td>\n",
       "      <td>1.530353</td>\n",
       "      <td>1.524608</td>\n",
       "      <td>1.431334</td>\n",
       "      <td>1.466774</td>\n",
       "      <td>1.593097</td>\n",
       "      <td>1.426552</td>\n",
       "      <td>...</td>\n",
       "      <td>1.780345</td>\n",
       "      <td>1.916275</td>\n",
       "      <td>1.755813</td>\n",
       "      <td>1.438399</td>\n",
       "      <td>1.866520</td>\n",
       "      <td>1.576825</td>\n",
       "      <td>1.392718</td>\n",
       "      <td>1.248129</td>\n",
       "      <td>1.539656</td>\n",
       "      <td>2.099138</td>\n",
       "    </tr>\n",
       "    <tr>\n",
       "      <th>3</th>\n",
       "      <td>4.859037</td>\n",
       "      <td>-7.290394</td>\n",
       "      <td>3.077796</td>\n",
       "      <td>2.585303</td>\n",
       "      <td>-3.253199</td>\n",
       "      <td>3.155431</td>\n",
       "      <td>-1.119519</td>\n",
       "      <td>5.992974</td>\n",
       "      <td>-3.203835</td>\n",
       "      <td>-4.465383</td>\n",
       "      <td>...</td>\n",
       "      <td>-2.039446</td>\n",
       "      <td>0.620485</td>\n",
       "      <td>-0.962892</td>\n",
       "      <td>-3.054348</td>\n",
       "      <td>-1.450241</td>\n",
       "      <td>2.277263</td>\n",
       "      <td>-5.055258</td>\n",
       "      <td>-2.976247</td>\n",
       "      <td>2.930485</td>\n",
       "      <td>-0.620153</td>\n",
       "    </tr>\n",
       "    <tr>\n",
       "      <th>4</th>\n",
       "      <td>3.231265</td>\n",
       "      <td>-5.056212</td>\n",
       "      <td>-2.778169</td>\n",
       "      <td>1.032455</td>\n",
       "      <td>-2.054056</td>\n",
       "      <td>1.466364</td>\n",
       "      <td>0.847127</td>\n",
       "      <td>6.731718</td>\n",
       "      <td>2.465817</td>\n",
       "      <td>-4.336061</td>\n",
       "      <td>...</td>\n",
       "      <td>-0.037256</td>\n",
       "      <td>-0.731378</td>\n",
       "      <td>-2.201360</td>\n",
       "      <td>-4.900962</td>\n",
       "      <td>-5.015859</td>\n",
       "      <td>-0.592880</td>\n",
       "      <td>-3.026917</td>\n",
       "      <td>-4.759956</td>\n",
       "      <td>0.838191</td>\n",
       "      <td>2.486871</td>\n",
       "    </tr>\n",
       "  </tbody>\n",
       "</table>\n",
       "<p>5 rows × 200 columns</p>\n",
       "</div>"
      ],
      "text/plain": [
       "         x1        x2        x3        x4        x5        x6        x7  \\\n",
       "0  1.142330 -0.484040  0.665750  0.583209  2.084426  0.401561  0.168327   \n",
       "1  0.874308  0.619367  0.672932  0.702434  0.785465  0.790633  0.803624   \n",
       "2  1.446090  1.179399  1.148514  1.185959  1.530353  1.524608  1.431334   \n",
       "3  4.859037 -7.290394  3.077796  2.585303 -3.253199  3.155431 -1.119519   \n",
       "4  3.231265 -5.056212 -2.778169  1.032455 -2.054056  1.466364  0.847127   \n",
       "\n",
       "         x8        x9       x10  ...      x191      x192      x193      x194  \\\n",
       "0 -0.454143  0.478470  0.438122  ...  0.643380  0.157000 -0.749465 -0.782891   \n",
       "1  0.910571  0.822872  0.710248  ...  1.003370  1.089460  0.974689  0.813481   \n",
       "2  1.466774  1.593097  1.426552  ...  1.780345  1.916275  1.755813  1.438399   \n",
       "3  5.992974 -3.203835 -4.465383  ... -2.039446  0.620485 -0.962892 -3.054348   \n",
       "4  6.731718  2.465817 -4.336061  ... -0.037256 -0.731378 -2.201360 -4.900962   \n",
       "\n",
       "       x195      x196      x197      x198      x199      x200  \n",
       "0  2.025607 -1.170654 -0.042919 -0.756649  1.665564  2.243377  \n",
       "1  1.049336  0.886007  0.699045  0.621691  0.925140  1.166110  \n",
       "2  1.866520  1.576825  1.392718  1.248129  1.539656  2.099138  \n",
       "3 -1.450241  2.277263 -5.055258 -2.976247  2.930485 -0.620153  \n",
       "4 -5.015859 -0.592880 -3.026917 -4.759956  0.838191  2.486871  \n",
       "\n",
       "[5 rows x 200 columns]"
      ]
     },
     "execution_count": 7,
     "metadata": {},
     "output_type": "execute_result"
    }
   ],
   "source": [
    "X.head()"
   ]
  },
  {
   "cell_type": "code",
   "execution_count": 8,
   "metadata": {},
   "outputs": [
    {
     "data": {
      "text/html": [
       "<div>\n",
       "<style scoped>\n",
       "    .dataframe tbody tr th:only-of-type {\n",
       "        vertical-align: middle;\n",
       "    }\n",
       "\n",
       "    .dataframe tbody tr th {\n",
       "        vertical-align: top;\n",
       "    }\n",
       "\n",
       "    .dataframe thead th {\n",
       "        text-align: right;\n",
       "    }\n",
       "</style>\n",
       "<table border=\"1\" class=\"dataframe\">\n",
       "  <thead>\n",
       "    <tr style=\"text-align: right;\">\n",
       "      <th></th>\n",
       "      <th>y</th>\n",
       "    </tr>\n",
       "  </thead>\n",
       "  <tbody>\n",
       "    <tr>\n",
       "      <th>0</th>\n",
       "      <td>0.753449</td>\n",
       "    </tr>\n",
       "    <tr>\n",
       "      <th>1</th>\n",
       "      <td>0.753449</td>\n",
       "    </tr>\n",
       "    <tr>\n",
       "      <th>2</th>\n",
       "      <td>0.753449</td>\n",
       "    </tr>\n",
       "    <tr>\n",
       "      <th>3</th>\n",
       "      <td>1.401436</td>\n",
       "    </tr>\n",
       "    <tr>\n",
       "      <th>4</th>\n",
       "      <td>1.401436</td>\n",
       "    </tr>\n",
       "  </tbody>\n",
       "</table>\n",
       "</div>"
      ],
      "text/plain": [
       "          y\n",
       "0  0.753449\n",
       "1  0.753449\n",
       "2  0.753449\n",
       "3  1.401436\n",
       "4  1.401436"
      ]
     },
     "execution_count": 8,
     "metadata": {},
     "output_type": "execute_result"
    }
   ],
   "source": [
    "y.head()"
   ]
  },
  {
   "cell_type": "code",
   "execution_count": 110,
   "metadata": {},
   "outputs": [],
   "source": [
    "# full_df = X.join(y)"
   ]
  },
  {
   "cell_type": "code",
   "execution_count": 111,
   "metadata": {},
   "outputs": [],
   "source": [
    "# full_df.head()"
   ]
  },
  {
   "cell_type": "code",
   "execution_count": 9,
   "metadata": {},
   "outputs": [
    {
     "data": {
      "text/plain": [
       "((120000, 200), (120000, 1))"
      ]
     },
     "execution_count": 9,
     "metadata": {},
     "output_type": "execute_result"
    }
   ],
   "source": [
    "X.shape, y.shape"
   ]
  },
  {
   "cell_type": "code",
   "execution_count": 10,
   "metadata": {},
   "outputs": [],
   "source": [
    "X_train = X[:100000]\n",
    "X_val = X[100000:]\n",
    "y_train = y[:100000]\n",
    "y_val = y[100000:]"
   ]
  },
  {
   "cell_type": "code",
   "execution_count": 11,
   "metadata": {},
   "outputs": [
    {
     "data": {
      "text/plain": [
       "((100000, 200), (20000, 200), (100000, 1), (20000, 1))"
      ]
     },
     "execution_count": 11,
     "metadata": {},
     "output_type": "execute_result"
    }
   ],
   "source": [
    "X_train.shape, X_val.shape, y_train.shape, y_val.shape"
   ]
  },
  {
   "cell_type": "markdown",
   "metadata": {},
   "source": [
    "Линейная регрессия"
   ]
  },
  {
   "cell_type": "code",
   "execution_count": 112,
   "metadata": {},
   "outputs": [],
   "source": [
    "scaler = StandardScaler()\n",
    "X_train = scaler.fit_transform(X_train)\n",
    "X_val = scaler.transform(X_val)"
   ]
  },
  {
   "cell_type": "code",
   "execution_count": 12,
   "metadata": {},
   "outputs": [],
   "source": [
    "reg = LinearRegression()\n",
    "reg.fit(X_train, y_train)\n",
    "reg_pred = reg.predict(X_val)"
   ]
  },
  {
   "cell_type": "code",
   "execution_count": 13,
   "metadata": {},
   "outputs": [
    {
     "name": "stdout",
     "output_type": "stream",
     "text": [
      "MAE:  0.2924011559278072\n",
      "MSE: 0.13414832438302862\n",
      "MAPE:  0.2332479975680495\n",
      "mean y: 1.5002772472939288\n",
      "mean pred: 1.503743041251569\n"
     ]
    }
   ],
   "source": [
    "print('MAE: ', mean_absolute_error(y_val, reg_pred))\n",
    "print('MSE:', mean_squared_error(y_val, reg_pred))\n",
    "print('MAPE: ', mean_absolute_percentage_error(y_val, reg_pred))\n",
    "print('mean y:', y_val.mean().values[0])\n",
    "print('mean pred:', reg_pred.mean())"
   ]
  },
  {
   "cell_type": "markdown",
   "metadata": {},
   "source": [
    "CatBoost"
   ]
  },
  {
   "cell_type": "code",
   "execution_count": 163,
   "metadata": {},
   "outputs": [],
   "source": [
    "cat_reg = CatBoostRegressor(random_seed=42, verbose=200, depth=10, eval_metric='RMSE', n_estimators=1000)"
   ]
  },
  {
   "cell_type": "code",
   "execution_count": 164,
   "metadata": {},
   "outputs": [
    {
     "name": "stdout",
     "output_type": "stream",
     "text": [
      "Learning rate set to 0.068085\n",
      "0:\tlearn: 0.3725729\ttotal: 395ms\tremaining: 6m 34s\n",
      "200:\tlearn: 0.2711749\ttotal: 1m 18s\tremaining: 5m 11s\n",
      "400:\tlearn: 0.1971644\ttotal: 2m 31s\tremaining: 3m 46s\n",
      "600:\tlearn: 0.1490123\ttotal: 3m 41s\tremaining: 2m 26s\n",
      "800:\tlearn: 0.1156369\ttotal: 4m 48s\tremaining: 1m 11s\n",
      "999:\tlearn: 0.0923306\ttotal: 5m 51s\tremaining: 0us\n"
     ]
    },
    {
     "data": {
      "text/plain": [
       "<catboost.core.CatBoostRegressor at 0x20459654490>"
      ]
     },
     "execution_count": 164,
     "metadata": {},
     "output_type": "execute_result"
    }
   ],
   "source": [
    "cat_reg.fit(X_train, y_train)\n"
   ]
  },
  {
   "cell_type": "code",
   "execution_count": 165,
   "metadata": {},
   "outputs": [],
   "source": [
    "cat_preds = cat_reg.predict(X_val)"
   ]
  },
  {
   "cell_type": "code",
   "execution_count": 166,
   "metadata": {},
   "outputs": [
    {
     "name": "stdout",
     "output_type": "stream",
     "text": [
      "MAE:  0.2952581420860547\n",
      "MSE: 0.13346377738802795\n",
      "MAPE:  0.21587042275389062\n",
      "mean y: 1.5200868117372108\n",
      "mean pred: 1.5023822401410203\n"
     ]
    }
   ],
   "source": [
    "print('MAE: ', mean_absolute_error(y_val, cat_preds))\n",
    "print('MSE:', mean_squared_error(y_val, cat_preds))\n",
    "print('MAPE: ', mean_absolute_percentage_error(y_val, cat_preds))\n",
    "print('mean y:', y_val.mean().values[0])\n",
    "print('mean pred:', cat_preds.mean())"
   ]
  },
  {
   "cell_type": "markdown",
   "metadata": {},
   "source": [
    "Цикл на все 15 параметров с логгированием результатов"
   ]
  },
  {
   "cell_type": "code",
   "execution_count": 15,
   "metadata": {},
   "outputs": [
    {
     "name": "stderr",
     "output_type": "stream",
     "text": [
      "  0%|          | 0/40000 [00:00<?, ?it/s]C:\\Users\\wilte\\AppData\\Local\\Temp\\ipykernel_19784\\340263733.py:15: FutureWarning: The behavior of DataFrame concatenation with empty or all-NA entries is deprecated. In a future version, this will no longer exclude empty or all-NA columns when determining the result dtypes. To retain the old behavior, exclude the relevant entries before the concat operation.\n",
      "  result = pd.concat([result, temp_y])\n",
      "100%|██████████| 40000/40000 [00:13<00:00, 3072.20it/s]\n",
      "  0%|          | 0/40000 [00:00<?, ?it/s]C:\\Users\\wilte\\AppData\\Local\\Temp\\ipykernel_19784\\340263733.py:15: FutureWarning: The behavior of DataFrame concatenation with empty or all-NA entries is deprecated. In a future version, this will no longer exclude empty or all-NA columns when determining the result dtypes. To retain the old behavior, exclude the relevant entries before the concat operation.\n",
      "  result = pd.concat([result, temp_y])\n",
      "100%|██████████| 40000/40000 [00:15<00:00, 2514.68it/s]\n",
      "  0%|          | 0/40000 [00:00<?, ?it/s]C:\\Users\\wilte\\AppData\\Local\\Temp\\ipykernel_19784\\340263733.py:15: FutureWarning: The behavior of DataFrame concatenation with empty or all-NA entries is deprecated. In a future version, this will no longer exclude empty or all-NA columns when determining the result dtypes. To retain the old behavior, exclude the relevant entries before the concat operation.\n",
      "  result = pd.concat([result, temp_y])\n",
      "100%|██████████| 40000/40000 [00:10<00:00, 3744.08it/s]\n",
      "  0%|          | 0/40000 [00:00<?, ?it/s]C:\\Users\\wilte\\AppData\\Local\\Temp\\ipykernel_19784\\340263733.py:15: FutureWarning: The behavior of DataFrame concatenation with empty or all-NA entries is deprecated. In a future version, this will no longer exclude empty or all-NA columns when determining the result dtypes. To retain the old behavior, exclude the relevant entries before the concat operation.\n",
      "  result = pd.concat([result, temp_y])\n",
      "100%|██████████| 40000/40000 [00:09<00:00, 4365.83it/s]\n",
      "  0%|          | 0/40000 [00:00<?, ?it/s]C:\\Users\\wilte\\AppData\\Local\\Temp\\ipykernel_19784\\340263733.py:15: FutureWarning: The behavior of DataFrame concatenation with empty or all-NA entries is deprecated. In a future version, this will no longer exclude empty or all-NA columns when determining the result dtypes. To retain the old behavior, exclude the relevant entries before the concat operation.\n",
      "  result = pd.concat([result, temp_y])\n",
      "100%|██████████| 40000/40000 [00:12<00:00, 3190.36it/s]\n",
      "  0%|          | 0/40000 [00:00<?, ?it/s]C:\\Users\\wilte\\AppData\\Local\\Temp\\ipykernel_19784\\340263733.py:15: FutureWarning: The behavior of DataFrame concatenation with empty or all-NA entries is deprecated. In a future version, this will no longer exclude empty or all-NA columns when determining the result dtypes. To retain the old behavior, exclude the relevant entries before the concat operation.\n",
      "  result = pd.concat([result, temp_y])\n",
      "100%|██████████| 40000/40000 [00:14<00:00, 2753.71it/s]\n",
      "  0%|          | 0/40000 [00:00<?, ?it/s]C:\\Users\\wilte\\AppData\\Local\\Temp\\ipykernel_19784\\340263733.py:15: FutureWarning: The behavior of DataFrame concatenation with empty or all-NA entries is deprecated. In a future version, this will no longer exclude empty or all-NA columns when determining the result dtypes. To retain the old behavior, exclude the relevant entries before the concat operation.\n",
      "  result = pd.concat([result, temp_y])\n",
      "100%|██████████| 40000/40000 [00:11<00:00, 3551.73it/s]\n",
      "  0%|          | 0/40000 [00:00<?, ?it/s]C:\\Users\\wilte\\AppData\\Local\\Temp\\ipykernel_19784\\340263733.py:15: FutureWarning: The behavior of DataFrame concatenation with empty or all-NA entries is deprecated. In a future version, this will no longer exclude empty or all-NA columns when determining the result dtypes. To retain the old behavior, exclude the relevant entries before the concat operation.\n",
      "  result = pd.concat([result, temp_y])\n",
      "100%|██████████| 40000/40000 [00:10<00:00, 3771.26it/s]\n",
      "  0%|          | 0/40000 [00:00<?, ?it/s]C:\\Users\\wilte\\AppData\\Local\\Temp\\ipykernel_19784\\340263733.py:15: FutureWarning: The behavior of DataFrame concatenation with empty or all-NA entries is deprecated. In a future version, this will no longer exclude empty or all-NA columns when determining the result dtypes. To retain the old behavior, exclude the relevant entries before the concat operation.\n",
      "  result = pd.concat([result, temp_y])\n",
      "100%|██████████| 40000/40000 [00:10<00:00, 3882.87it/s]\n",
      "  0%|          | 0/40000 [00:00<?, ?it/s]C:\\Users\\wilte\\AppData\\Local\\Temp\\ipykernel_19784\\340263733.py:15: FutureWarning: The behavior of DataFrame concatenation with empty or all-NA entries is deprecated. In a future version, this will no longer exclude empty or all-NA columns when determining the result dtypes. To retain the old behavior, exclude the relevant entries before the concat operation.\n",
      "  result = pd.concat([result, temp_y])\n",
      "100%|██████████| 40000/40000 [00:10<00:00, 3980.26it/s]\n",
      "  0%|          | 0/40000 [00:00<?, ?it/s]C:\\Users\\wilte\\AppData\\Local\\Temp\\ipykernel_19784\\340263733.py:15: FutureWarning: The behavior of DataFrame concatenation with empty or all-NA entries is deprecated. In a future version, this will no longer exclude empty or all-NA columns when determining the result dtypes. To retain the old behavior, exclude the relevant entries before the concat operation.\n",
      "  result = pd.concat([result, temp_y])\n",
      "100%|██████████| 40000/40000 [00:10<00:00, 3926.65it/s]\n",
      "  0%|          | 0/40000 [00:00<?, ?it/s]C:\\Users\\wilte\\AppData\\Local\\Temp\\ipykernel_19784\\340263733.py:15: FutureWarning: The behavior of DataFrame concatenation with empty or all-NA entries is deprecated. In a future version, this will no longer exclude empty or all-NA columns when determining the result dtypes. To retain the old behavior, exclude the relevant entries before the concat operation.\n",
      "  result = pd.concat([result, temp_y])\n",
      "100%|██████████| 40000/40000 [00:09<00:00, 4200.01it/s]\n",
      "  0%|          | 0/40000 [00:00<?, ?it/s]C:\\Users\\wilte\\AppData\\Local\\Temp\\ipykernel_19784\\340263733.py:15: FutureWarning: The behavior of DataFrame concatenation with empty or all-NA entries is deprecated. In a future version, this will no longer exclude empty or all-NA columns when determining the result dtypes. To retain the old behavior, exclude the relevant entries before the concat operation.\n",
      "  result = pd.concat([result, temp_y])\n",
      "100%|██████████| 40000/40000 [00:09<00:00, 4234.27it/s]\n",
      "  0%|          | 0/40000 [00:00<?, ?it/s]C:\\Users\\wilte\\AppData\\Local\\Temp\\ipykernel_19784\\340263733.py:15: FutureWarning: The behavior of DataFrame concatenation with empty or all-NA entries is deprecated. In a future version, this will no longer exclude empty or all-NA columns when determining the result dtypes. To retain the old behavior, exclude the relevant entries before the concat operation.\n",
      "  result = pd.concat([result, temp_y])\n",
      "100%|██████████| 40000/40000 [00:10<00:00, 3722.99it/s]\n",
      "  0%|          | 0/40000 [00:00<?, ?it/s]C:\\Users\\wilte\\AppData\\Local\\Temp\\ipykernel_19784\\340263733.py:15: FutureWarning: The behavior of DataFrame concatenation with empty or all-NA entries is deprecated. In a future version, this will no longer exclude empty or all-NA columns when determining the result dtypes. To retain the old behavior, exclude the relevant entries before the concat operation.\n",
      "  result = pd.concat([result, temp_y])\n",
      "100%|██████████| 40000/40000 [00:09<00:00, 4077.35it/s]\n"
     ]
    }
   ],
   "source": [
    "for i in range(15):\n",
    "    y = create_y(40000, i)\n",
    "    y_train = y[:100000]\n",
    "    y_val = y[100000:]\n",
    "\n",
    "    reg = LinearRegression()\n",
    "    reg.fit(X_train, y_train)\n",
    "    reg_pred = reg.predict(X_val)\n",
    "    with open(f'./logs/lr_raw_40k.txt', 'a') as f:\n",
    "        f.write(f'Target param: {i}\\n')\n",
    "        f.write(f'MAE: {mean_absolute_error(y_val, reg_pred)}\\n')\n",
    "        f.write(f'MSE: {mean_squared_error(y_val, reg_pred)}\\n')\n",
    "        f.write(f'MAPE:  {mean_absolute_percentage_error(y_val, reg_pred)}\\n')\n",
    "        f.write(f'mean y: {y_val.mean().values[0]}\\n')\n",
    "        f.write(f'mean pred: {reg_pred.mean()}\\n')\n",
    "        f.write('\\n')"
   ]
  },
  {
   "cell_type": "markdown",
   "metadata": {},
   "source": [
    "PCA-3"
   ]
  },
  {
   "cell_type": "code",
   "execution_count": 31,
   "metadata": {},
   "outputs": [],
   "source": [
    "# создаем признаки для обучения \n",
    "# Параметр N - количество наборов данных из большого файла \n",
    "def create_X_PCA_3(n: int) -> pd.DataFrame:\n",
    "    global data_x\n",
    "    # Создаем экзмепляр класса PCA\n",
    "    pca = PCA(n_components=3)\n",
    "    # генерируем название столбцов. Это пригодится, если понадобиться делать срезы по столбцам\n",
    "    cols = list()\n",
    "    for i in range(1, 201):\n",
    "        col = f'x{i}'\n",
    "        cols.append(col)\n",
    "    # создаем пустой датафрейм\n",
    "    result = pd.DataFrame(columns=cols)\n",
    "    for i in tqdm(range(n)):\n",
    "        # выбираем из большого файла один семпл\n",
    "        temp_x = data_x[i]\n",
    "        temp_x = pca.fit_transform(temp_x)\n",
    "        temp_x = pd.DataFrame(temp_x)\n",
    "        # PCA-трансформация\n",
    "        # транспонируем данные\n",
    "        temp_x = temp_x.T\n",
    "        temp_x.columns = cols\n",
    "        # обединяем результирующий датафрейм с датафреймом одного сэмпла\n",
    "        result = pd.concat([result, temp_x])\n",
    "    result = result.reset_index(drop=True)\n",
    "    return result"
   ]
  },
  {
   "cell_type": "code",
   "execution_count": 32,
   "metadata": {},
   "outputs": [
    {
     "name": "stderr",
     "output_type": "stream",
     "text": [
      "  0%|          | 0/10000 [00:00<?, ?it/s]C:\\Users\\wilte\\AppData\\Local\\Temp\\ipykernel_19784\\925903268.py:24: FutureWarning: The behavior of DataFrame concatenation with empty or all-NA entries is deprecated. In a future version, this will no longer exclude empty or all-NA columns when determining the result dtypes. To retain the old behavior, exclude the relevant entries before the concat operation.\n",
      "  result = pd.concat([result, temp_x])\n",
      "100%|██████████| 10000/10000 [01:18<00:00, 127.76it/s]\n",
      "  0%|          | 0/10000 [00:00<?, ?it/s]C:\\Users\\wilte\\AppData\\Local\\Temp\\ipykernel_19784\\340263733.py:15: FutureWarning: The behavior of DataFrame concatenation with empty or all-NA entries is deprecated. In a future version, this will no longer exclude empty or all-NA columns when determining the result dtypes. To retain the old behavior, exclude the relevant entries before the concat operation.\n",
      "  result = pd.concat([result, temp_y])\n",
      "100%|██████████| 10000/10000 [00:01<00:00, 5456.43it/s]\n"
     ]
    }
   ],
   "source": [
    "X = create_X_PCA_3(10000)\n",
    "y = create_y(10000, 0)\n"
   ]
  },
  {
   "cell_type": "code",
   "execution_count": 47,
   "metadata": {},
   "outputs": [
    {
     "data": {
      "text/plain": [
       "((20000, 200), (20000, 1))"
      ]
     },
     "execution_count": 47,
     "metadata": {},
     "output_type": "execute_result"
    }
   ],
   "source": [
    "X.shape, y.shape"
   ]
  },
  {
   "cell_type": "code",
   "execution_count": 48,
   "metadata": {},
   "outputs": [],
   "source": [
    "X_train = X[:17000]\n",
    "X_val = X[17000:]\n",
    "y_train = y[:17000]\n",
    "y_val = y[17000:]"
   ]
  },
  {
   "cell_type": "code",
   "execution_count": 49,
   "metadata": {},
   "outputs": [],
   "source": [
    "scaler = StandardScaler()\n",
    "X_train = scaler.fit_transform(X_train)\n",
    "X_val = scaler.transform(X_val)"
   ]
  },
  {
   "cell_type": "code",
   "execution_count": 50,
   "metadata": {},
   "outputs": [],
   "source": [
    "reg = LinearRegression()\n",
    "reg.fit(X_train, y_train)\n",
    "reg_pred = reg.predict(X_val)"
   ]
  },
  {
   "cell_type": "code",
   "execution_count": 51,
   "metadata": {},
   "outputs": [
    {
     "name": "stdout",
     "output_type": "stream",
     "text": [
      "MAE:  0.2975884800269682\n",
      "MSE: 0.13544867845663236\n",
      "MAPE:  0.21811343233365627\n",
      "mean y: 1.5210943708504256\n",
      "mean pred: 1.503262902256717\n"
     ]
    }
   ],
   "source": [
    "print('MAE: ', mean_absolute_error(y_val, reg_pred))\n",
    "print('MSE:', mean_squared_error(y_val, reg_pred))\n",
    "print('MAPE: ', mean_absolute_percentage_error(y_val, reg_pred))\n",
    "print('mean y:', y_val.mean().values[0])\n",
    "print('mean pred:', reg_pred.mean())"
   ]
  },
  {
   "cell_type": "code",
   "execution_count": 53,
   "metadata": {},
   "outputs": [
    {
     "name": "stderr",
     "output_type": "stream",
     "text": [
      "  0%|          | 0/10000 [00:00<?, ?it/s]C:\\Users\\wilte\\AppData\\Local\\Temp\\ipykernel_19784\\1979373030.py:15: FutureWarning: The behavior of DataFrame concatenation with empty or all-NA entries is deprecated. In a future version, this will no longer exclude empty or all-NA columns when determining the result dtypes. To retain the old behavior, exclude the relevant entries before the concat operation.\n",
      "  result = pd.concat([result, temp_y])\n",
      "100%|██████████| 10000/10000 [00:01<00:00, 5347.63it/s]\n",
      "  0%|          | 0/10000 [00:00<?, ?it/s]C:\\Users\\wilte\\AppData\\Local\\Temp\\ipykernel_19784\\1979373030.py:15: FutureWarning: The behavior of DataFrame concatenation with empty or all-NA entries is deprecated. In a future version, this will no longer exclude empty or all-NA columns when determining the result dtypes. To retain the old behavior, exclude the relevant entries before the concat operation.\n",
      "  result = pd.concat([result, temp_y])\n",
      "100%|██████████| 10000/10000 [00:01<00:00, 5427.49it/s]\n",
      "  0%|          | 0/10000 [00:00<?, ?it/s]C:\\Users\\wilte\\AppData\\Local\\Temp\\ipykernel_19784\\1979373030.py:15: FutureWarning: The behavior of DataFrame concatenation with empty or all-NA entries is deprecated. In a future version, this will no longer exclude empty or all-NA columns when determining the result dtypes. To retain the old behavior, exclude the relevant entries before the concat operation.\n",
      "  result = pd.concat([result, temp_y])\n",
      "100%|██████████| 10000/10000 [00:01<00:00, 5591.51it/s]\n",
      "  0%|          | 0/10000 [00:00<?, ?it/s]C:\\Users\\wilte\\AppData\\Local\\Temp\\ipykernel_19784\\1979373030.py:15: FutureWarning: The behavior of DataFrame concatenation with empty or all-NA entries is deprecated. In a future version, this will no longer exclude empty or all-NA columns when determining the result dtypes. To retain the old behavior, exclude the relevant entries before the concat operation.\n",
      "  result = pd.concat([result, temp_y])\n",
      "100%|██████████| 10000/10000 [00:01<00:00, 5398.79it/s]\n",
      "  0%|          | 0/10000 [00:00<?, ?it/s]C:\\Users\\wilte\\AppData\\Local\\Temp\\ipykernel_19784\\1979373030.py:15: FutureWarning: The behavior of DataFrame concatenation with empty or all-NA entries is deprecated. In a future version, this will no longer exclude empty or all-NA columns when determining the result dtypes. To retain the old behavior, exclude the relevant entries before the concat operation.\n",
      "  result = pd.concat([result, temp_y])\n",
      "100%|██████████| 10000/10000 [00:01<00:00, 5615.97it/s]\n",
      "  0%|          | 0/10000 [00:00<?, ?it/s]C:\\Users\\wilte\\AppData\\Local\\Temp\\ipykernel_19784\\1979373030.py:15: FutureWarning: The behavior of DataFrame concatenation with empty or all-NA entries is deprecated. In a future version, this will no longer exclude empty or all-NA columns when determining the result dtypes. To retain the old behavior, exclude the relevant entries before the concat operation.\n",
      "  result = pd.concat([result, temp_y])\n",
      "100%|██████████| 10000/10000 [00:01<00:00, 5452.48it/s]\n",
      "  0%|          | 0/10000 [00:00<?, ?it/s]C:\\Users\\wilte\\AppData\\Local\\Temp\\ipykernel_19784\\1979373030.py:15: FutureWarning: The behavior of DataFrame concatenation with empty or all-NA entries is deprecated. In a future version, this will no longer exclude empty or all-NA columns when determining the result dtypes. To retain the old behavior, exclude the relevant entries before the concat operation.\n",
      "  result = pd.concat([result, temp_y])\n",
      "100%|██████████| 10000/10000 [00:01<00:00, 5083.76it/s]\n",
      "  0%|          | 0/10000 [00:00<?, ?it/s]C:\\Users\\wilte\\AppData\\Local\\Temp\\ipykernel_19784\\1979373030.py:15: FutureWarning: The behavior of DataFrame concatenation with empty or all-NA entries is deprecated. In a future version, this will no longer exclude empty or all-NA columns when determining the result dtypes. To retain the old behavior, exclude the relevant entries before the concat operation.\n",
      "  result = pd.concat([result, temp_y])\n",
      "100%|██████████| 10000/10000 [00:01<00:00, 5215.41it/s]\n",
      "  0%|          | 0/10000 [00:00<?, ?it/s]C:\\Users\\wilte\\AppData\\Local\\Temp\\ipykernel_19784\\1979373030.py:15: FutureWarning: The behavior of DataFrame concatenation with empty or all-NA entries is deprecated. In a future version, this will no longer exclude empty or all-NA columns when determining the result dtypes. To retain the old behavior, exclude the relevant entries before the concat operation.\n",
      "  result = pd.concat([result, temp_y])\n",
      "100%|██████████| 10000/10000 [00:01<00:00, 5484.26it/s]\n",
      "  0%|          | 0/10000 [00:00<?, ?it/s]C:\\Users\\wilte\\AppData\\Local\\Temp\\ipykernel_19784\\1979373030.py:15: FutureWarning: The behavior of DataFrame concatenation with empty or all-NA entries is deprecated. In a future version, this will no longer exclude empty or all-NA columns when determining the result dtypes. To retain the old behavior, exclude the relevant entries before the concat operation.\n",
      "  result = pd.concat([result, temp_y])\n",
      "100%|██████████| 10000/10000 [00:01<00:00, 5681.41it/s]\n",
      "  0%|          | 0/10000 [00:00<?, ?it/s]C:\\Users\\wilte\\AppData\\Local\\Temp\\ipykernel_19784\\1979373030.py:15: FutureWarning: The behavior of DataFrame concatenation with empty or all-NA entries is deprecated. In a future version, this will no longer exclude empty or all-NA columns when determining the result dtypes. To retain the old behavior, exclude the relevant entries before the concat operation.\n",
      "  result = pd.concat([result, temp_y])\n",
      "100%|██████████| 10000/10000 [00:01<00:00, 5250.50it/s]\n",
      "  0%|          | 0/10000 [00:00<?, ?it/s]C:\\Users\\wilte\\AppData\\Local\\Temp\\ipykernel_19784\\1979373030.py:15: FutureWarning: The behavior of DataFrame concatenation with empty or all-NA entries is deprecated. In a future version, this will no longer exclude empty or all-NA columns when determining the result dtypes. To retain the old behavior, exclude the relevant entries before the concat operation.\n",
      "  result = pd.concat([result, temp_y])\n",
      "100%|██████████| 10000/10000 [00:01<00:00, 5846.44it/s]\n",
      "  0%|          | 0/10000 [00:00<?, ?it/s]C:\\Users\\wilte\\AppData\\Local\\Temp\\ipykernel_19784\\1979373030.py:15: FutureWarning: The behavior of DataFrame concatenation with empty or all-NA entries is deprecated. In a future version, this will no longer exclude empty or all-NA columns when determining the result dtypes. To retain the old behavior, exclude the relevant entries before the concat operation.\n",
      "  result = pd.concat([result, temp_y])\n",
      "100%|██████████| 10000/10000 [00:01<00:00, 5040.73it/s]\n",
      "  0%|          | 0/10000 [00:00<?, ?it/s]C:\\Users\\wilte\\AppData\\Local\\Temp\\ipykernel_19784\\1979373030.py:15: FutureWarning: The behavior of DataFrame concatenation with empty or all-NA entries is deprecated. In a future version, this will no longer exclude empty or all-NA columns when determining the result dtypes. To retain the old behavior, exclude the relevant entries before the concat operation.\n",
      "  result = pd.concat([result, temp_y])\n",
      "100%|██████████| 10000/10000 [00:01<00:00, 5350.56it/s]\n",
      "  0%|          | 0/10000 [00:00<?, ?it/s]C:\\Users\\wilte\\AppData\\Local\\Temp\\ipykernel_19784\\1979373030.py:15: FutureWarning: The behavior of DataFrame concatenation with empty or all-NA entries is deprecated. In a future version, this will no longer exclude empty or all-NA columns when determining the result dtypes. To retain the old behavior, exclude the relevant entries before the concat operation.\n",
      "  result = pd.concat([result, temp_y])\n",
      "100%|██████████| 10000/10000 [00:01<00:00, 5633.52it/s]\n"
     ]
    }
   ],
   "source": [
    "for i in range(15):\n",
    "    y = create_y_PCA_2(10000, i)\n",
    "    y_train = y[:17000]\n",
    "    y_val = y[17000:]\n",
    "\n",
    "    reg = LinearRegression()\n",
    "    reg.fit(X_train, y_train)\n",
    "    reg_pred = reg.predict(X_val)\n",
    "    with open(f'./logs/lr_PCA2_10k.txt', 'a') as f:\n",
    "        f.write(f'Target param: {i}\\n')\n",
    "        f.write(f'MAE: {mean_absolute_error(y_val, reg_pred)}\\n')\n",
    "        f.write(f'MSE: {mean_squared_error(y_val, reg_pred)}\\n')\n",
    "        f.write(f'MAPE:  {mean_absolute_percentage_error(y_val, reg_pred)}\\n')\n",
    "        f.write(f'mean y: {y_val.mean().values[0]}\\n')\n",
    "        f.write(f'mean pred: {reg_pred.mean()}\\n')\n",
    "        f.write('\\n')"
   ]
  },
  {
   "cell_type": "markdown",
   "metadata": {},
   "source": [
    "PCA-2"
   ]
  },
  {
   "cell_type": "code",
   "execution_count": 40,
   "metadata": {},
   "outputs": [],
   "source": [
    "# создаем признаки для обучения \n",
    "# Параметр N - количество наборов данных из большого файла \n",
    "def create_X_PCA_2(n: int) -> pd.DataFrame:\n",
    "    global data_x\n",
    "    # Создаем экзмепляр класса PCA\n",
    "    pca = PCA(n_components=2)\n",
    "    # генерируем название столбцов. Это пригодится, если понадобиться делать срезы по столбцам\n",
    "    cols = list()\n",
    "    for i in range(1, 201):\n",
    "        col = f'x{i}'\n",
    "        cols.append(col)\n",
    "    # создаем пустой датафрейм\n",
    "    result = pd.DataFrame(columns=cols)\n",
    "    for i in tqdm(range(n)):\n",
    "        # выбираем из большого файла один семпл\n",
    "        temp_x = data_x[i]\n",
    "        temp_x = pca.fit_transform(temp_x)\n",
    "        temp_x = pd.DataFrame(temp_x)\n",
    "        # PCA-трансформация\n",
    "        # транспонируем данные\n",
    "        temp_x = temp_x.T\n",
    "        temp_x.columns = cols\n",
    "        # обединяем результирующий датафрейм с датафреймом одного сэмпла\n",
    "        result = pd.concat([result, temp_x])\n",
    "    result = result.reset_index(drop=True)\n",
    "    return result"
   ]
  },
  {
   "cell_type": "code",
   "execution_count": null,
   "metadata": {},
   "outputs": [],
   "source": [
    "# создаем таргет для обучения \n",
    "# Параметр N - количество наборов данных из большого файла \n",
    "# Параметр num - номер целевого параметра от 0 до 14 \n",
    "def create_y_PCA_2(n: int, num: int) -> pd.DataFrame:\n",
    "    global data_y\n",
    "    # создаем пустой датафрейм\n",
    "    result = pd.DataFrame(columns=['y'])\n",
    "    for i in tqdm(range(n)):\n",
    "        temp_y = list()\n",
    "        temp = data_y[i][num]\n",
    "        for _ in range(2):\n",
    "            temp_y.append(temp)\n",
    "        temp_y = pd.DataFrame(temp_y, columns=['y'])\n",
    "        # обединяем результирующий датафрейм с датафреймом одного сэмпла\n",
    "        result = pd.concat([result, temp_y])\n",
    "    result = result.reset_index(drop=True)\n",
    "    return result "
   ]
  },
  {
   "cell_type": "code",
   "execution_count": 41,
   "metadata": {},
   "outputs": [
    {
     "name": "stderr",
     "output_type": "stream",
     "text": [
      "  0%|          | 0/10000 [00:00<?, ?it/s]C:\\Users\\wilte\\AppData\\Local\\Temp\\ipykernel_19784\\2815727293.py:24: FutureWarning: The behavior of DataFrame concatenation with empty or all-NA entries is deprecated. In a future version, this will no longer exclude empty or all-NA columns when determining the result dtypes. To retain the old behavior, exclude the relevant entries before the concat operation.\n",
      "  result = pd.concat([result, temp_x])\n",
      "100%|██████████| 10000/10000 [00:52<00:00, 192.27it/s]\n",
      "  0%|          | 0/10000 [00:00<?, ?it/s]C:\\Users\\wilte\\AppData\\Local\\Temp\\ipykernel_19784\\340263733.py:15: FutureWarning: The behavior of DataFrame concatenation with empty or all-NA entries is deprecated. In a future version, this will no longer exclude empty or all-NA columns when determining the result dtypes. To retain the old behavior, exclude the relevant entries before the concat operation.\n",
      "  result = pd.concat([result, temp_y])\n",
      "100%|██████████| 10000/10000 [00:01<00:00, 5078.85it/s]\n"
     ]
    }
   ],
   "source": [
    "X = create_X_PCA_2(10000)\n",
    "y = create_y_PCA_2(10000, 0)"
   ]
  },
  {
   "cell_type": "code",
   "execution_count": 42,
   "metadata": {},
   "outputs": [
    {
     "data": {
      "text/plain": [
       "((20000, 200), (30000, 1))"
      ]
     },
     "execution_count": 42,
     "metadata": {},
     "output_type": "execute_result"
    }
   ],
   "source": [
    "X.shape, y.shape"
   ]
  },
  {
   "cell_type": "code",
   "execution_count": null,
   "metadata": {},
   "outputs": [],
   "source": [
    "X_train = X[:25000]\n",
    "X_val = X[25000:]\n",
    "y_train = y[:25000]\n",
    "y_val = y[25000:]"
   ]
  },
  {
   "cell_type": "code",
   "execution_count": null,
   "metadata": {},
   "outputs": [],
   "source": [
    "scaler = StandardScaler()\n",
    "X_train = scaler.fit_transform(X_train)\n",
    "X_val = scaler.transform(X_val)"
   ]
  },
  {
   "cell_type": "code",
   "execution_count": null,
   "metadata": {},
   "outputs": [],
   "source": [
    "reg = LinearRegression()\n",
    "reg.fit(X_train, y_train)\n",
    "reg_pred = reg.predict(X_val)"
   ]
  },
  {
   "cell_type": "code",
   "execution_count": null,
   "metadata": {},
   "outputs": [],
   "source": [
    "print('MAE: ', mean_absolute_error(y_val, reg_pred))\n",
    "print('MSE:', mean_squared_error(y_val, reg_pred))\n",
    "print('MAPE: ', mean_absolute_percentage_error(y_val, reg_pred))\n",
    "print('mean y:', y_val.mean().values[0])\n",
    "print('mean pred:', reg_pred.mean())"
   ]
  },
  {
   "cell_type": "markdown",
   "metadata": {},
   "source": [
    "3x200"
   ]
  },
  {
   "cell_type": "code",
   "execution_count": 54,
   "metadata": {},
   "outputs": [],
   "source": [
    "# создаем признаки для обучения \n",
    "# Параметр N - количество наборов данных из большого файла \n",
    "def create_X_3x200(n: int) -> pd.DataFrame:\n",
    "    global data_x\n",
    "    # генерируем название столбцов. Это пригодится, если понадобиться делать срезы по столбцам\n",
    "    cols = list()\n",
    "    for i in range(1, 4):\n",
    "        col = f'x{i}'\n",
    "        cols.append(col)\n",
    "    # создаем пустой датафрейм\n",
    "    result = pd.DataFrame(columns=cols)\n",
    "    for i in tqdm(range(n)):\n",
    "        # выбираем из большого файла один семпл\n",
    "        temp_x = data_x[i]\n",
    "        temp_x = pd.DataFrame(temp_x)\n",
    "        temp_x.columns = cols\n",
    "        # обединяем результирующий датафрейм с датафреймом одного сэмпла\n",
    "        result = pd.concat([result, temp_x])\n",
    "    result = result.reset_index(drop=True)\n",
    "    return result"
   ]
  },
  {
   "cell_type": "code",
   "execution_count": 58,
   "metadata": {},
   "outputs": [],
   "source": [
    "# создаем таргет для обучения \n",
    "# Параметр N - количество наборов данных из большого файла \n",
    "# Параметр num - номер целевого параметра от 0 до 14 \n",
    "def create_y_3x200(n: int, num: int) -> pd.DataFrame:\n",
    "    global data_y\n",
    "    # создаем пустой датафрейм\n",
    "    result = pd.DataFrame(columns=['y'])\n",
    "    for i in tqdm(range(n)):\n",
    "        temp_y = list()\n",
    "        temp = data_y[i][num]\n",
    "        for _ in range(200):\n",
    "            temp_y.append(temp)\n",
    "        temp_y = pd.DataFrame(temp_y, columns=['y'])\n",
    "        # обединяем результирующий датафрейм с датафреймом одного сэмпла\n",
    "        result = pd.concat([result, temp_y])\n",
    "    result = result.reset_index(drop=True)\n",
    "    return result  "
   ]
  },
  {
   "cell_type": "code",
   "execution_count": 57,
   "metadata": {},
   "outputs": [
    {
     "name": "stderr",
     "output_type": "stream",
     "text": [
      "  0%|          | 0/10000 [00:00<?, ?it/s]C:\\Users\\wilte\\AppData\\Local\\Temp\\ipykernel_19784\\2748121111.py:18: FutureWarning: The behavior of DataFrame concatenation with empty or all-NA entries is deprecated. In a future version, this will no longer exclude empty or all-NA columns when determining the result dtypes. To retain the old behavior, exclude the relevant entries before the concat operation.\n",
      "  result = pd.concat([result, temp_x])\n",
      "100%|██████████| 10000/10000 [01:11<00:00, 139.90it/s]\n"
     ]
    },
    {
     "ename": "NameError",
     "evalue": "name 'create_y_3x200' is not defined",
     "output_type": "error",
     "traceback": [
      "\u001b[1;31m---------------------------------------------------------------------------\u001b[0m",
      "\u001b[1;31mNameError\u001b[0m                                 Traceback (most recent call last)",
      "\u001b[1;32mc:\\Users\\wilte\\OneDrive\\Рабочий стол\\projects\\sochi-2023\\2-1.ipynb Cell 46\u001b[0m line \u001b[0;36m2\n\u001b[0;32m      <a href='vscode-notebook-cell:/c%3A/Users/wilte/OneDrive/%D0%A0%D0%B0%D0%B1%D0%BE%D1%87%D0%B8%D0%B9%20%D1%81%D1%82%D0%BE%D0%BB/projects/sochi-2023/2-1.ipynb#X63sZmlsZQ%3D%3D?line=0'>1</a>\u001b[0m X \u001b[39m=\u001b[39m create_X_3x200(\u001b[39m10000\u001b[39m)\n\u001b[1;32m----> <a href='vscode-notebook-cell:/c%3A/Users/wilte/OneDrive/%D0%A0%D0%B0%D0%B1%D0%BE%D1%87%D0%B8%D0%B9%20%D1%81%D1%82%D0%BE%D0%BB/projects/sochi-2023/2-1.ipynb#X63sZmlsZQ%3D%3D?line=1'>2</a>\u001b[0m y \u001b[39m=\u001b[39m create_y_3x200(\u001b[39m10000\u001b[39m, \u001b[39m0\u001b[39m)\n",
      "\u001b[1;31mNameError\u001b[0m: name 'create_y_3x200' is not defined"
     ]
    }
   ],
   "source": [
    "X = create_X_3x200(10000)\n"
   ]
  },
  {
   "cell_type": "code",
   "execution_count": 59,
   "metadata": {},
   "outputs": [
    {
     "name": "stderr",
     "output_type": "stream",
     "text": [
      "  0%|          | 0/10000 [00:00<?, ?it/s]C:\\Users\\wilte\\AppData\\Local\\Temp\\ipykernel_19784\\1399651710.py:15: FutureWarning: The behavior of DataFrame concatenation with empty or all-NA entries is deprecated. In a future version, this will no longer exclude empty or all-NA columns when determining the result dtypes. To retain the old behavior, exclude the relevant entries before the concat operation.\n",
      "  result = pd.concat([result, temp_y])\n",
      "100%|██████████| 10000/10000 [00:38<00:00, 259.30it/s]\n"
     ]
    }
   ],
   "source": [
    "y = create_y_3x200(10000, 0)"
   ]
  },
  {
   "cell_type": "code",
   "execution_count": 60,
   "metadata": {},
   "outputs": [
    {
     "data": {
      "text/plain": [
       "((2000000, 3), (2000000, 1))"
      ]
     },
     "execution_count": 60,
     "metadata": {},
     "output_type": "execute_result"
    }
   ],
   "source": [
    "X.shape, y.shape"
   ]
  },
  {
   "cell_type": "code",
   "execution_count": 61,
   "metadata": {},
   "outputs": [],
   "source": [
    "X_train = X[:1750000]\n",
    "X_val = X[1750000:]\n",
    "y_train = y[:1750000]\n",
    "y_val = y[1750000:]"
   ]
  },
  {
   "cell_type": "code",
   "execution_count": 62,
   "metadata": {},
   "outputs": [
    {
     "data": {
      "text/plain": [
       "((1750000, 3), (250000, 3), (1750000, 1), (250000, 1))"
      ]
     },
     "execution_count": 62,
     "metadata": {},
     "output_type": "execute_result"
    }
   ],
   "source": [
    "X_train.shape, X_val.shape, y_train.shape, y_val.shape"
   ]
  },
  {
   "cell_type": "code",
   "execution_count": 63,
   "metadata": {},
   "outputs": [],
   "source": [
    "scaler = StandardScaler()\n",
    "X_train = scaler.fit_transform(X_train)\n",
    "X_val = scaler.transform(X_val)"
   ]
  },
  {
   "cell_type": "code",
   "execution_count": 64,
   "metadata": {},
   "outputs": [],
   "source": [
    "reg = LinearRegression()\n",
    "reg.fit(X_train, y_train)\n",
    "reg_pred = reg.predict(X_val)"
   ]
  },
  {
   "cell_type": "code",
   "execution_count": 65,
   "metadata": {},
   "outputs": [
    {
     "name": "stdout",
     "output_type": "stream",
     "text": [
      "MAE:  0.28933365993470467\n",
      "MSE: 0.12914183431904555\n",
      "MAPE:  0.20936789935264474\n",
      "mean y: 1.527868761112596\n",
      "mean pred: 1.5033292582346447\n"
     ]
    }
   ],
   "source": [
    "print('MAE: ', mean_absolute_error(y_val, reg_pred))\n",
    "print('MSE:', mean_squared_error(y_val, reg_pred))\n",
    "print('MAPE: ', mean_absolute_percentage_error(y_val, reg_pred))\n",
    "print('mean y:', y_val.mean().values[0])\n",
    "print('mean pred:', reg_pred.mean())"
   ]
  },
  {
   "cell_type": "code",
   "execution_count": 74,
   "metadata": {},
   "outputs": [],
   "source": [
    "# создаем признаки для обучения \n",
    "# Параметр N - количество наборов данных из большого файла \n",
    "def create_X_np(n: int) -> pd.DataFrame:\n",
    "    global data_x\n",
    "    # генерируем название столбцов. Это пригодится, если понадобиться делать срезы по столбцам\n",
    "    cols = list()\n",
    "    for i in range(1, 201):\n",
    "        col = f'x{i}'\n",
    "        cols.append(col)\n",
    "    # создаем пустой датафрейм\n",
    "    #result = pd.DataFrame(columns=cols)\n",
    "    result = data_x[0]\n",
    "    result = result.T\n",
    "    for i in tqdm(range(1, n)):\n",
    "        # выбираем из большого файла один семпл\n",
    "        temp_x = data_x[i].T    \n",
    "        result = np.vstack((result, temp_x))\n",
    "    result = pd.DataFrame(result, columns=cols)\n",
    "    result = result.reset_index(drop=True)\n",
    "    return result"
   ]
  },
  {
   "cell_type": "code",
   "execution_count": 77,
   "metadata": {},
   "outputs": [
    {
     "name": "stderr",
     "output_type": "stream",
     "text": [
      "100%|██████████| 9999/9999 [01:20<00:00, 123.66it/s] \n"
     ]
    }
   ],
   "source": [
    "a = create_X_np(10000)"
   ]
  },
  {
   "cell_type": "code",
   "execution_count": 81,
   "metadata": {},
   "outputs": [
    {
     "data": {
      "text/plain": [
       "(30000, 200)"
      ]
     },
     "execution_count": 81,
     "metadata": {},
     "output_type": "execute_result"
    }
   ],
   "source": [
    "a.shape"
   ]
  },
  {
   "cell_type": "code",
   "execution_count": null,
   "metadata": {},
   "outputs": [],
   "source": []
  }
 ],
 "metadata": {
  "kernelspec": {
   "display_name": "venv",
   "language": "python",
   "name": "python3"
  },
  "language_info": {
   "codemirror_mode": {
    "name": "ipython",
    "version": 3
   },
   "file_extension": ".py",
   "mimetype": "text/x-python",
   "name": "python",
   "nbconvert_exporter": "python",
   "pygments_lexer": "ipython3",
   "version": "3.11.2"
  }
 },
 "nbformat": 4,
 "nbformat_minor": 2
}
