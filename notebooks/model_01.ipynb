{
 "cells": [
  {
   "cell_type": "code",
   "execution_count": 1,
   "id": "8eee30bf",
   "metadata": {
    "cellId": "8iz84smc7i3z2vkyti1vr9"
   },
   "outputs": [],
   "source": [
    "import numpy as np\n",
    "from keras.models import Sequential\n",
    "from keras.layers import Dense, Conv2D, Flatten, Dropout, MaxPooling2D, UpSampling2D, BatchNormalization\n",
    "from keras.metrics import RootMeanSquaredError\n",
    "from keras.optimizers import AdamW\n",
    "from keras import backend as K"
   ]
  },
  {
   "cell_type": "code",
   "execution_count": 14,
   "id": "8abd02aa",
   "metadata": {
    "cellId": "tmzs2kcnl79hp0b1iy4bkv"
   },
   "outputs": [],
   "source": [
    "X_train = np.load('../y_smp_train.npy')\n",
    "y_train = np.load('../pars_smp_train.npy')\n",
    "X_test = np.load('../y_smp_test.npy')"
   ]
  },
  {
   "cell_type": "code",
   "execution_count": 15,
   "id": "07c5980a",
   "metadata": {
    "cellId": "crndhlylc58nbq7u96q70m"
   },
   "outputs": [
    {
     "data": {
      "text/plain": [
       "((1000000, 200, 3), (1000000, 15, 1))"
      ]
     },
     "execution_count": 15,
     "metadata": {},
     "output_type": "execute_result"
    }
   ],
   "source": [
    "X_train.shape, y_train.shape"
   ]
  },
  {
   "cell_type": "code",
   "execution_count": 16,
   "id": "e6e911dd",
   "metadata": {
    "cellId": "qqnykpmzu9rq54k63fuer"
   },
   "outputs": [],
   "source": [
    "def quantile_loss_1(y_true, y_pred):\n",
    "    error = y_true - y_pred\n",
    "    loss = K.mean(K.maximum(0.1 * error, (0.1 - 1) * error))\n",
    "    return loss"
   ]
  },
  {
   "cell_type": "code",
   "execution_count": null,
   "id": "d2f407bb",
   "metadata": {},
   "outputs": [],
   "source": [
    "time_steps = 200\n",
    "num_features = 3"
   ]
  },
  {
   "cell_type": "code",
   "execution_count": null,
   "id": "2424f168",
   "metadata": {
    "cellId": "lz8aya17wbdcy3hj5qmhai",
    "execution_id": "f5d24032-443e-43db-bb2c-159b51b9a5ab"
   },
   "outputs": [],
   "source": [
    "model = Sequential()\n",
    "\n",
    "model.add(Conv2D(16, (3,3), activation='relu', input_shape=(time_steps, num_features, 1), padding='same'))\n",
    "model.add(UpSampling2D((2,2)))\n",
    "model.add(Conv2D(32, (3,3), activation='relu', padding='same'))\n",
    "model.add(UpSampling2D((2,2)))\n",
    "model.add(Conv2D(32, (12,6), activation='relu', strides=(6, 1)))\n",
    "model.add(MaxPooling2D(pool_size=(2, 2), padding='same'))\n",
    "model.add(Conv2D(16, (3,3), activation='relu', strides=(2, 1)))\n",
    "model.add(MaxPooling2D(pool_size=(2, 2), padding='same'))\n",
    "model.add(Flatten())\n",
    "model.add(BatchNormalization())\n",
    "model.add(Dense(128, activation='relu'))\n",
    "model.add(Dropout(0.2))\n",
    "model.add(BatchNormalization())\n",
    "model.add(Dense(64, activation='relu'))\n",
    "model.add(Dense(15))\n",
    "\n",
    "opt = AdamW(learning_rate=0.0001)\n",
    "model.compile(loss=quantile_loss_1, optimizer=opt, metrics=[RootMeanSquaredError()])"
   ]
  },
  {
   "cell_type": "code",
   "execution_count": null,
   "id": "9746f454",
   "metadata": {
    "cellId": "4kzwvdnx6g248s2v6qda5k",
    "execution_id": "67a26a52-c11f-4297-9ad9-d51a41b05a94"
   },
   "outputs": [],
   "source": [
    "model.summary()"
   ]
  },
  {
   "cell_type": "code",
   "execution_count": 9,
   "id": "b2a1f43e",
   "metadata": {
    "cellId": "24o8p8ckdy5opoe7ajyu1"
   },
   "outputs": [
    {
     "name": "stderr",
     "output_type": "stream",
     "text": [
      "2023-10-15 04:09:15.705198: I tensorflow/compiler/xla/stream_executor/cuda/cuda_dnn.cc:424] Loaded cuDNN version 8900\n",
      "2023-10-15 04:09:16.589133: I tensorflow/compiler/xla/stream_executor/cuda/cuda_blas.cc:637] TensorFloat-32 will be used for the matrix multiplication. This will only be logged once.\n",
      "2023-10-15 04:09:16.813713: I tensorflow/compiler/xla/service/service.cc:169] XLA service 0x55ecc132a2a0 initialized for platform CUDA (this does not guarantee that XLA will be used). Devices:\n",
      "2023-10-15 04:09:16.813748: I tensorflow/compiler/xla/service/service.cc:177]   StreamExecutor device (0): NVIDIA A100-SXM4-80GB, Compute Capability 8.0\n",
      "2023-10-15 04:09:16.817923: I tensorflow/compiler/mlir/tensorflow/utils/dump_mlir_util.cc:269] disabling MLIR crash reproducer, set env var `MLIR_CRASH_REPRODUCER_DIRECTORY` to enable.\n",
      "2023-10-15 04:09:16.942888: I ./tensorflow/compiler/jit/device_compiler.h:180] Compiled cluster using XLA!  This line is logged at most once for the lifetime of the process.\n"
     ]
    },
    {
     "name": "stdout",
     "output_type": "stream",
     "text": [
      "Epoch 1/25\n",
      "782/782 [==============================] - 14s 9ms/step - loss: 0.0874 - root_mean_squared_error: 1.0320\n",
      "Epoch 2/25\n",
      "782/782 [==============================] - 7s 9ms/step - loss: 0.0513 - root_mean_squared_error: 0.6378\n",
      "Epoch 3/25\n",
      "782/782 [==============================] - 7s 9ms/step - loss: 0.0451 - root_mean_squared_error: 0.5588\n",
      "Epoch 4/25\n",
      "782/782 [==============================] - 7s 9ms/step - loss: 0.0418 - root_mean_squared_error: 0.5229\n",
      "Epoch 5/25\n",
      "782/782 [==============================] - 7s 9ms/step - loss: 0.0392 - root_mean_squared_error: 0.4962\n",
      "Epoch 6/25\n",
      "782/782 [==============================] - 7s 9ms/step - loss: 0.0375 - root_mean_squared_error: 0.4783\n",
      "Epoch 7/25\n",
      "782/782 [==============================] - 7s 9ms/step - loss: 0.0362 - root_mean_squared_error: 0.4628\n",
      "Epoch 8/25\n",
      "782/782 [==============================] - 7s 9ms/step - loss: 0.0350 - root_mean_squared_error: 0.4484\n",
      "Epoch 9/25\n",
      "782/782 [==============================] - 7s 9ms/step - loss: 0.0340 - root_mean_squared_error: 0.4356\n",
      "Epoch 10/25\n",
      "782/782 [==============================] - 7s 9ms/step - loss: 0.0335 - root_mean_squared_error: 0.4284\n",
      "Epoch 11/25\n",
      "782/782 [==============================] - 7s 9ms/step - loss: 0.0329 - root_mean_squared_error: 0.4222\n",
      "Epoch 12/25\n",
      "782/782 [==============================] - 7s 9ms/step - loss: 0.0326 - root_mean_squared_error: 0.4184\n",
      "Epoch 13/25\n",
      "782/782 [==============================] - 7s 9ms/step - loss: 0.0322 - root_mean_squared_error: 0.4148\n",
      "Epoch 14/25\n",
      "782/782 [==============================] - 7s 9ms/step - loss: 0.0320 - root_mean_squared_error: 0.4130\n",
      "Epoch 15/25\n",
      "782/782 [==============================] - 7s 9ms/step - loss: 0.0318 - root_mean_squared_error: 0.4092\n",
      "Epoch 16/25\n",
      "782/782 [==============================] - 7s 9ms/step - loss: 0.0316 - root_mean_squared_error: 0.4073\n",
      "Epoch 17/25\n",
      "782/782 [==============================] - 7s 9ms/step - loss: 0.0314 - root_mean_squared_error: 0.4045\n",
      "Epoch 18/25\n",
      "782/782 [==============================] - 7s 9ms/step - loss: 0.0312 - root_mean_squared_error: 0.4019\n",
      "Epoch 19/25\n",
      "782/782 [==============================] - 7s 9ms/step - loss: 0.0310 - root_mean_squared_error: 0.4010\n",
      "Epoch 20/25\n",
      "782/782 [==============================] - 7s 9ms/step - loss: 0.0309 - root_mean_squared_error: 0.3996\n",
      "Epoch 21/25\n",
      "782/782 [==============================] - 7s 9ms/step - loss: 0.0307 - root_mean_squared_error: 0.3974\n",
      "Epoch 22/25\n",
      "782/782 [==============================] - 7s 9ms/step - loss: 0.0305 - root_mean_squared_error: 0.3956\n",
      "Epoch 23/25\n",
      "782/782 [==============================] - 7s 9ms/step - loss: 0.0303 - root_mean_squared_error: 0.3938\n",
      "Epoch 24/25\n",
      "782/782 [==============================] - 7s 9ms/step - loss: 0.0299 - root_mean_squared_error: 0.3906\n",
      "Epoch 25/25\n",
      "782/782 [==============================] - 7s 9ms/step - loss: 0.0296 - root_mean_squared_error: 0.3890\n"
     ]
    },
    {
     "data": {
      "text/plain": [
       "<keras.callbacks.History at 0x7fbf3035de40>"
      ]
     },
     "execution_count": 9,
     "metadata": {},
     "output_type": "execute_result"
    }
   ],
   "source": [
    "model.fit(X_train, y_train, batch_size=128, epochs=25)"
   ]
  },
  {
   "cell_type": "code",
   "execution_count": 10,
   "id": "8dd0c87d",
   "metadata": {
    "cellId": "0ne4t56mafrdf3xx46y8ygs"
   },
   "outputs": [
    {
     "name": "stdout",
     "output_type": "stream",
     "text": [
      "3125/3125 [==============================] - 4s 1ms/step\n"
     ]
    }
   ],
   "source": [
    "pred = model.predict(X_test)"
   ]
  },
  {
   "cell_type": "code",
   "execution_count": 11,
   "id": "3a7b6b58",
   "metadata": {
    "cellId": "vybvjd9vhrt7bnw7eo9gs"
   },
   "outputs": [],
   "source": [
    "np.save('test_pred_01', pred)"
   ]
  },
  {
   "cell_type": "code",
   "execution_count": 12,
   "id": "996ef0e5",
   "metadata": {
    "cellId": "43lk2xwscc9y1sfq9uustr"
   },
   "outputs": [],
   "source": [
    "model.save(\"model_01.h5\")"
   ]
  },
  {
   "cell_type": "code",
   "execution_count": null,
   "id": "b9fabae8",
   "metadata": {
    "cellId": "38dbjgxov4lsn86swrl4u8"
   },
   "outputs": [],
   "source": []
  }
 ],
 "metadata": {
  "kernelspec": {
   "display_name": "venv",
   "language": "python",
   "name": "python3"
  },
  "language_info": {
   "codemirror_mode": {
    "name": "ipython",
    "version": 3
   },
   "file_extension": ".py",
   "mimetype": "text/x-python",
   "name": "python",
   "nbconvert_exporter": "python",
   "pygments_lexer": "ipython3",
   "version": "3.11.2"
  },
  "notebookId": "43e2faa3-589d-4244-9e77-95bb31fb5e56",
  "notebookPath": "models/model_01.ipynb"
 },
 "nbformat": 4,
 "nbformat_minor": 5
}
