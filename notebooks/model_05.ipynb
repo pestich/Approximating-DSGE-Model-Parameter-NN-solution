{
 "cells": [
  {
   "cell_type": "code",
   "execution_count": 1,
   "id": "debb5341",
   "metadata": {
    "cellId": "836zvp2n3wccnas9knzt45"
   },
   "outputs": [],
   "source": [
    "import numpy as np\n",
    "from keras.models import Sequential\n",
    "from keras.layers import Dense, Conv2D, Flatten, Dropout, MaxPooling2D, UpSampling2D, BatchNormalization\n",
    "from keras.metrics import RootMeanSquaredError\n",
    "from keras.optimizers import AdamW\n",
    "from keras import backend as K"
   ]
  },
  {
   "cell_type": "code",
   "execution_count": 2,
   "id": "b09c5e33",
   "metadata": {
    "cellId": "hckl68wlptdz4rby68k0i"
   },
   "outputs": [],
   "source": [
    "X_train = np.load('../y_smp_train.npy')\n",
    "y_train = np.load('../pars_smp_train.npy')\n",
    "X_test = np.load('../y_smp_test.npy')"
   ]
  },
  {
   "cell_type": "code",
   "execution_count": 3,
   "id": "0c166cf8",
   "metadata": {
    "cellId": "ffbgq4oi8a684qalf0fhq2"
   },
   "outputs": [
    {
     "data": {
      "text/plain": [
       "((1000000, 200, 3), (1000000, 15, 1))"
      ]
     },
     "execution_count": 3,
     "metadata": {},
     "output_type": "execute_result"
    }
   ],
   "source": [
    "X_train.shape, y_train.shape"
   ]
  },
  {
   "cell_type": "code",
   "execution_count": 4,
   "id": "784c87a6",
   "metadata": {
    "cellId": "kqv6qt26ysr35m16g0bjqb"
   },
   "outputs": [],
   "source": [
    "def quantile_loss_5(y_true, y_pred):\n",
    "    error = y_true - y_pred\n",
    "    loss = K.mean(K.maximum(0.5 * error, (0.5 - 1) * error))\n",
    "    return loss"
   ]
  },
  {
   "cell_type": "code",
   "execution_count": 5,
   "id": "a129bd0e",
   "metadata": {
    "cellId": "o91irzfy988ttvdtfs6zxf"
   },
   "outputs": [],
   "source": [
    "time_steps = 200\n",
    "num_features = 3"
   ]
  },
  {
   "cell_type": "code",
   "execution_count": 6,
   "id": "2ffd9b84",
   "metadata": {
    "cellId": "f6xqmzuzz3m37rw79xos",
    "execution_id": "3e8259f5-16e6-45fb-8492-0b9aeab88972"
   },
   "outputs": [],
   "source": [
    "model = Sequential()\n",
    "\n",
    "model.add(Conv2D(16, (3,3), activation='relu', input_shape=(time_steps, num_features, 1), padding='same'))\n",
    "model.add(UpSampling2D((2,2)))\n",
    "model.add(Conv2D(32, (3,3), activation='relu', padding='same'))\n",
    "model.add(UpSampling2D((2,2)))\n",
    "model.add(Conv2D(32, (12,6), activation='relu', strides=(6, 1)))\n",
    "model.add(MaxPooling2D(pool_size=(2, 2), padding='same'))\n",
    "model.add(Conv2D(16, (3,3), activation='relu', strides=(2, 1)))\n",
    "model.add(MaxPooling2D(pool_size=(2, 2), padding='same'))\n",
    "model.add(Flatten())\n",
    "model.add(BatchNormalization())\n",
    "model.add(Dense(128, activation='relu'))\n",
    "model.add(Dropout(0.2))\n",
    "model.add(BatchNormalization())\n",
    "model.add(Dense(64, activation='relu'))\n",
    "model.add(Dense(15))\n",
    "\n",
    "opt = AdamW(learning_rate=0.0001)\n",
    "model.compile(loss=quantile_loss_5, optimizer=opt, metrics=[RootMeanSquaredError()])"
   ]
  },
  {
   "cell_type": "code",
   "execution_count": 7,
   "id": "758a72cd",
   "metadata": {
    "cellId": "9bgjo4cmtibh5o5i4pv7gd",
    "execution_id": "736d2d56-0229-4790-a5cb-bb99440c98bf"
   },
   "outputs": [
    {
     "name": "stdout",
     "output_type": "stream",
     "text": [
      "Model: \"sequential\"\n",
      "_________________________________________________________________\n",
      " Layer (type)                Output Shape              Param #   \n",
      "=================================================================\n",
      " conv2d (Conv2D)             (None, 200, 3, 16)        160       \n",
      "                                                                 \n",
      " up_sampling2d (UpSampling2  (None, 400, 6, 16)        0         \n",
      " D)                                                              \n",
      "                                                                 \n",
      " conv2d_1 (Conv2D)           (None, 400, 6, 32)        4640      \n",
      "                                                                 \n",
      " up_sampling2d_1 (UpSamplin  (None, 800, 12, 32)       0         \n",
      " g2D)                                                            \n",
      "                                                                 \n",
      " conv2d_2 (Conv2D)           (None, 132, 7, 32)        73760     \n",
      "                                                                 \n",
      " max_pooling2d (MaxPooling2  (None, 66, 4, 32)         0         \n",
      " D)                                                              \n",
      "                                                                 \n",
      " conv2d_3 (Conv2D)           (None, 32, 2, 16)         4624      \n",
      "                                                                 \n",
      " max_pooling2d_1 (MaxPoolin  (None, 16, 1, 16)         0         \n",
      " g2D)                                                            \n",
      "                                                                 \n",
      " flatten (Flatten)           (None, 256)               0         \n",
      "                                                                 \n",
      " batch_normalization (Batch  (None, 256)               1024      \n",
      " Normalization)                                                  \n",
      "                                                                 \n",
      " dense (Dense)               (None, 128)               32896     \n",
      "                                                                 \n",
      " dropout (Dropout)           (None, 128)               0         \n",
      "                                                                 \n",
      " batch_normalization_1 (Bat  (None, 128)               512       \n",
      " chNormalization)                                                \n",
      "                                                                 \n",
      " dense_1 (Dense)             (None, 64)                8256      \n",
      "                                                                 \n",
      " dense_2 (Dense)             (None, 15)                975       \n",
      "                                                                 \n",
      "=================================================================\n",
      "Total params: 126847 (495.50 KB)\n",
      "Trainable params: 126079 (492.50 KB)\n",
      "Non-trainable params: 768 (3.00 KB)\n",
      "_________________________________________________________________\n"
     ]
    }
   ],
   "source": [
    "model.summary()"
   ]
  },
  {
   "cell_type": "code",
   "execution_count": null,
   "id": "ec77061e",
   "metadata": {
    "cellId": "90iewvzmtr8il8gvbsqxc",
    "execution_id": "50b133c0-b392-49b7-a326-a3d65e3f7b2a"
   },
   "outputs": [],
   "source": [
    "model.fit(X_train, y_train, batch_size=128, epochs=25)"
   ]
  },
  {
   "cell_type": "code",
   "execution_count": null,
   "id": "bf05feac",
   "metadata": {
    "cellId": "mb9ldq3j65fyvmucxl577",
    "execution_id": "57ed0fac-59b9-4e72-8ab3-696059f43f29"
   },
   "outputs": [],
   "source": [
    "pred = model.predict(X_test)"
   ]
  },
  {
   "cell_type": "code",
   "execution_count": null,
   "id": "12dc7993",
   "metadata": {
    "cellId": "17wrqx21ncfx8r1k2p83t",
    "execution_id": "63d013f9-fd99-4cb2-9887-c0b537ca917b"
   },
   "outputs": [],
   "source": [
    "np.save('test_pred_05', pred)"
   ]
  },
  {
   "cell_type": "code",
   "execution_count": null,
   "id": "84e2c9ed",
   "metadata": {
    "cellId": "j9p3xr8ortqo2zzrpiu6d",
    "execution_id": "65474b3d-fa7a-40b7-8a0d-0a94e7bc962c"
   },
   "outputs": [],
   "source": [
    "model.save(\"model_05.h5\")"
   ]
  },
  {
   "cell_type": "code",
   "execution_count": null,
   "id": "72c00b1e",
   "metadata": {
    "cellId": "mlksfya6qtsf5xkotsees"
   },
   "outputs": [],
   "source": []
  }
 ],
 "metadata": {
  "kernelspec": {
   "display_name": "venv",
   "language": "python",
   "name": "python3"
  },
  "language_info": {
   "codemirror_mode": {
    "name": "ipython",
    "version": 3
   },
   "file_extension": ".py",
   "mimetype": "text/x-python",
   "name": "python",
   "nbconvert_exporter": "python",
   "pygments_lexer": "ipython3",
   "version": "3.11.2"
  },
  "notebookId": "f660e023-507a-42e0-9720-415c9728c7f4",
  "notebookPath": "models/model_05.ipynb"
 },
 "nbformat": 4,
 "nbformat_minor": 5
}
