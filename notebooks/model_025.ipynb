{
 "cells": [
  {
   "cell_type": "code",
   "execution_count": 1,
   "id": "caed0a7a",
   "metadata": {
    "cellId": "s9qywperzq226e1wgze0b"
   },
   "outputs": [],
   "source": [
    "import numpy as np\n",
    "from keras.models import Sequential\n",
    "from keras.layers import Dense, Conv2D, Flatten, Dropout, MaxPooling2D, UpSampling2D, BatchNormalization\n",
    "from keras.metrics import RootMeanSquaredError\n",
    "from keras.optimizers import AdamW\n",
    "from keras import backend as K"
   ]
  },
  {
   "cell_type": "code",
   "execution_count": 23,
   "id": "0ac3bed3",
   "metadata": {
    "cellId": "gadk5h5tva7hlh6m4veytp"
   },
   "outputs": [],
   "source": [
    "X_train = np.load('../y_smp_train.npy')\n",
    "y_train = np.load('../pars_smp_train.npy')\n",
    "X_test = np.load('../y_smp_test.npy')"
   ]
  },
  {
   "cell_type": "code",
   "execution_count": 14,
   "id": "a72f2d6e",
   "metadata": {
    "cellId": "eif1sjubsldjn9ko0arn3"
   },
   "outputs": [
    {
     "data": {
      "text/plain": [
       "((100000, 200, 3), (100000, 15, 1))"
      ]
     },
     "execution_count": 14,
     "metadata": {},
     "output_type": "execute_result"
    }
   ],
   "source": [
    "X_train.shape, y_train.shape"
   ]
  },
  {
   "cell_type": "code",
   "execution_count": 2,
   "id": "81b27d14",
   "metadata": {
    "cellId": "qi9b9fss35dluawue5l6hr"
   },
   "outputs": [],
   "source": [
    "def quantile_loss_25(y_true, y_pred):\n",
    "    error = y_true - y_pred\n",
    "    loss = K.mean(K.maximum(0.25 * error, (0.25 - 1) * error))\n",
    "    return loss"
   ]
  },
  {
   "cell_type": "code",
   "execution_count": 5,
   "id": "85145546",
   "metadata": {},
   "outputs": [],
   "source": [
    "time_steps = 200\n",
    "num_features = 3"
   ]
  },
  {
   "cell_type": "code",
   "execution_count": 6,
   "id": "61843a45",
   "metadata": {
    "cellId": "f8uz6vk4i1na60gy8cnwws"
   },
   "outputs": [],
   "source": [
    "model = Sequential()\n",
    "model.add(Conv2D(16, (3,3), activation='relu', input_shape=(time_steps, num_features, 1), padding='same'))\n",
    "model.add(UpSampling2D((2,2)))\n",
    "model.add(Conv2D(32, (3,3), activation='relu', padding='same'))\n",
    "model.add(UpSampling2D((2,2)))\n",
    "model.add(Conv2D(32, (12,6), activation='relu', strides=(6, 1)))\n",
    "model.add(MaxPooling2D(pool_size=(2, 2), padding='same'))\n",
    "model.add(Conv2D(16, (3,3), activation='relu', strides=(2, 1)))\n",
    "model.add(MaxPooling2D(pool_size=(2, 2), padding='same'))\n",
    "model.add(Flatten())\n",
    "model.add(BatchNormalization())\n",
    "model.add(Dense(128, activation='relu'))\n",
    "model.add(Dropout(0.2))\n",
    "model.add(BatchNormalization())\n",
    "model.add(Dense(64, activation='relu'))\n",
    "model.add(Dense(15))\n",
    "\n",
    "opt = AdamW(learning_rate=0.0001)\n",
    "model.compile(loss=quantile_loss_25, optimizer=opt, metrics=[RootMeanSquaredError()])"
   ]
  },
  {
   "cell_type": "code",
   "execution_count": 7,
   "id": "7eadcf8b",
   "metadata": {
    "cellId": "dllx1sdr32k5ffh3luni7"
   },
   "outputs": [
    {
     "name": "stdout",
     "output_type": "stream",
     "text": [
      "Model: \"sequential_1\"\n",
      "_________________________________________________________________\n",
      " Layer (type)                Output Shape              Param #   \n",
      "=================================================================\n",
      " conv2d_4 (Conv2D)           (None, 200, 3, 16)        160       \n",
      "                                                                 \n",
      " up_sampling2d_2 (UpSamplin  (None, 400, 6, 16)        0         \n",
      " g2D)                                                            \n",
      "                                                                 \n",
      " conv2d_5 (Conv2D)           (None, 400, 6, 32)        4640      \n",
      "                                                                 \n",
      " up_sampling2d_3 (UpSamplin  (None, 800, 12, 32)       0         \n",
      " g2D)                                                            \n",
      "                                                                 \n",
      " conv2d_6 (Conv2D)           (None, 132, 7, 32)        73760     \n",
      "                                                                 \n",
      " max_pooling2d_2 (MaxPoolin  (None, 66, 4, 32)         0         \n",
      " g2D)                                                            \n",
      "                                                                 \n",
      " conv2d_7 (Conv2D)           (None, 32, 2, 16)         4624      \n",
      "                                                                 \n",
      " max_pooling2d_3 (MaxPoolin  (None, 16, 1, 16)         0         \n",
      " g2D)                                                            \n",
      "                                                                 \n",
      " flatten_1 (Flatten)         (None, 256)               0         \n",
      "                                                                 \n",
      " batch_normalization_2 (Bat  (None, 256)               1024      \n",
      " chNormalization)                                                \n",
      "                                                                 \n",
      " dense_3 (Dense)             (None, 128)               32896     \n",
      "                                                                 \n",
      " dropout_1 (Dropout)         (None, 128)               0         \n",
      "                                                                 \n",
      " batch_normalization_3 (Bat  (None, 128)               512       \n",
      " chNormalization)                                                \n",
      "                                                                 \n",
      " dense_4 (Dense)             (None, 64)                8256      \n",
      "                                                                 \n",
      " dense_5 (Dense)             (None, 15)                975       \n",
      "                                                                 \n",
      "=================================================================\n",
      "Total params: 126847 (495.50 KB)\n",
      "Trainable params: 126079 (492.50 KB)\n",
      "Non-trainable params: 768 (3.00 KB)\n",
      "_________________________________________________________________\n"
     ]
    }
   ],
   "source": [
    "model.summary()"
   ]
  },
  {
   "cell_type": "code",
   "execution_count": 18,
   "id": "e84f9f28",
   "metadata": {
    "cellId": "e1mg56l12w5wg0w7behhyk"
   },
   "outputs": [
    {
     "name": "stdout",
     "output_type": "stream",
     "text": [
      "276/782 [=========>....................] - ETA: 4s - loss: 0.0619 - root_mean_squared_error: 0.3357"
     ]
    },
    {
     "name": "stderr",
     "output_type": "stream",
     "text": [
      "Failed to deserialize variable 'model'. Run the following code to delete it:\n",
      "  del_datasphere_variables('model')\n",
      "Traceback (most recent call last):\n",
      "  File \"/kernel/lib/python3.10/site-packages/ml_kernel/state/state_protocol.py\", line 283, in _load_component\n",
      "    value = unpickler.load()\n",
      "  File \"/kernel/lib/python3.10/site-packages/ipystate/impl/dispatch/tensorflow.py\", line 74, in _load_model\n",
      "    restored_model = tf.keras.models.load_model(model_path)\n",
      "  File \"/usr/local/lib/python3.10/dist-packages/keras/saving/saving_api.py\", line 212, in load_model\n",
      "    return legacy_sm_saving_lib.load_model(\n",
      "  File \"/usr/local/lib/python3.10/dist-packages/keras/utils/traceback_utils.py\", line 70, in error_handler\n",
      "    raise e.with_traceback(filtered_tb) from None\n",
      "  File \"/usr/local/lib/python3.10/dist-packages/keras/saving/legacy/serialization.py\", line 543, in deserialize_keras_object\n",
      "    raise ValueError(\n",
      "ValueError: Unknown loss function: 'quantile_loss_25'. Please ensure you are using a `keras.utils.custom_object_scope` and that this object is included in the scope. See https://www.tensorflow.org/guide/keras/save_and_serialize#registering_the_custom_object for details.\n",
      "\n",
      "The above exception was the direct cause of the following exception:\n",
      "\n",
      "ml_kernel.state.state_protocol.KernelStateProtocol.DeserializationException: ['model']\n",
      "Failed to deserialize variable 'model'. Run the following code to delete it:\n",
      "  del_datasphere_variables('model')\n",
      "Traceback (most recent call last):\n",
      "  File \"/kernel/lib/python3.10/site-packages/ml_kernel/state/state_protocol.py\", line 283, in _load_component\n",
      "    value = unpickler.load()\n",
      "  File \"/kernel/lib/python3.10/site-packages/ipystate/impl/dispatch/tensorflow.py\", line 74, in _load_model\n",
      "    restored_model = tf.keras.models.load_model(model_path)\n",
      "  File \"/usr/local/lib/python3.10/dist-packages/keras/saving/saving_api.py\", line 212, in load_model\n",
      "    return legacy_sm_saving_lib.load_model(\n",
      "  File \"/usr/local/lib/python3.10/dist-packages/keras/utils/traceback_utils.py\", line 70, in error_handler\n",
      "    raise e.with_traceback(filtered_tb) from None\n",
      "  File \"/usr/local/lib/python3.10/dist-packages/keras/saving/legacy/serialization.py\", line 543, in deserialize_keras_object\n",
      "    raise ValueError(\n",
      "ValueError: Unknown loss function: 'quantile_loss_25'. Please ensure you are using a `keras.utils.custom_object_scope` and that this object is included in the scope. See https://www.tensorflow.org/guide/keras/save_and_serialize#registering_the_custom_object for details.\n",
      "\n",
      "The above exception was the direct cause of the following exception:\n",
      "\n",
      "ml_kernel.state.state_protocol.KernelStateProtocol.DeserializationException: ['model']\n",
      "2023-10-15 04:31:49.360217: I tensorflow/compiler/xla/stream_executor/cuda/cuda_dnn.cc:424] Loaded cuDNN version 8900\n",
      "2023-10-15 04:31:50.073872: I tensorflow/compiler/xla/stream_executor/cuda/cuda_blas.cc:637] TensorFloat-32 will be used for the matrix multiplication. This will only be logged once.\n",
      "2023-10-15 04:31:50.117079: I tensorflow/compiler/xla/service/service.cc:169] XLA service 0x7f525e629c30 initialized for platform CUDA (this does not guarantee that XLA will be used). Devices:\n",
      "2023-10-15 04:31:50.117114: I tensorflow/compiler/xla/service/service.cc:177]   StreamExecutor device (0): NVIDIA A100-SXM4-80GB, Compute Capability 8.0\n",
      "2023-10-15 04:31:50.121638: I tensorflow/compiler/mlir/tensorflow/utils/dump_mlir_util.cc:269] disabling MLIR crash reproducer, set env var `MLIR_CRASH_REPRODUCER_DIRECTORY` to enable.\n",
      "2023-10-15 04:31:50.247918: I ./tensorflow/compiler/jit/device_compiler.h:180] Compiled cluster using XLA!  This line is logged at most once for the lifetime of the process.\n"
     ]
    },
    {
     "name": "stdout",
     "output_type": "stream",
     "text": [
      "Epoch 1/25\n",
      "782/782 [==============================] - 15s 9ms/step - loss: 0.1612 - root_mean_squared_error: 0.8700\n",
      "Epoch 2/25\n",
      "782/782 [==============================] - 7s 9ms/step - loss: 0.0868 - root_mean_squared_error: 0.4687\n",
      "Epoch 3/25\n",
      "782/782 [==============================] - 7s 9ms/step - loss: 0.0788 - root_mean_squared_error: 0.4214\n",
      "Epoch 4/25\n",
      "782/782 [==============================] - 7s 9ms/step - loss: 0.0748 - root_mean_squared_error: 0.3971\n",
      "Epoch 5/25\n",
      "782/782 [==============================] - 7s 9ms/step - loss: 0.0718 - root_mean_squared_error: 0.3809\n",
      "Epoch 6/25\n",
      "782/782 [==============================] - 7s 9ms/step - loss: 0.0689 - root_mean_squared_error: 0.3648\n",
      "Epoch 7/25\n",
      "782/782 [==============================] - 7s 9ms/step - loss: 0.0669 - root_mean_squared_error: 0.3555\n",
      "Epoch 8/25\n",
      "782/782 [==============================] - 7s 9ms/step - loss: 0.0653 - root_mean_squared_error: 0.3489\n",
      "Epoch 9/25\n",
      "782/782 [==============================] - 7s 9ms/step - loss: 0.0645 - root_mean_squared_error: 0.3454\n",
      "Epoch 10/25\n",
      "782/782 [==============================] - 7s 9ms/step - loss: 0.0636 - root_mean_squared_error: 0.3417\n",
      "Epoch 11/25\n",
      "782/782 [==============================] - 7s 9ms/step - loss: 0.0630 - root_mean_squared_error: 0.3397\n",
      "Epoch 12/25\n",
      "782/782 [==============================] - 7s 9ms/step - loss: 0.0626 - root_mean_squared_error: 0.3376\n",
      "Epoch 13/25\n",
      "782/782 [==============================] - 7s 9ms/step - loss: 0.0622 - root_mean_squared_error: 0.3365\n",
      "Epoch 14/25\n",
      "782/782 [==============================] - 7s 9ms/step - loss: 0.0619 - root_mean_squared_error: 0.3350\n",
      "Epoch 15/25\n",
      "782/782 [==============================] - 7s 9ms/step - loss: 0.0616 - root_mean_squared_error: 0.3338\n",
      "Epoch 16/25\n",
      "782/782 [==============================] - 7s 9ms/step - loss: 0.0611 - root_mean_squared_error: 0.3310\n",
      "Epoch 17/25\n",
      "782/782 [==============================] - 7s 9ms/step - loss: 0.0604 - root_mean_squared_error: 0.3256\n",
      "Epoch 18/25\n",
      "782/782 [==============================] - 7s 9ms/step - loss: 0.0597 - root_mean_squared_error: 0.3201\n",
      "Epoch 19/25\n",
      "782/782 [==============================] - 7s 9ms/step - loss: 0.0593 - root_mean_squared_error: 0.3161\n",
      "Epoch 20/25\n",
      "782/782 [==============================] - 7s 9ms/step - loss: 0.0591 - root_mean_squared_error: 0.3146\n",
      "Epoch 21/25\n",
      "782/782 [==============================] - 7s 9ms/step - loss: 0.0587 - root_mean_squared_error: 0.3127\n",
      "Epoch 22/25\n",
      "782/782 [==============================] - 7s 9ms/step - loss: 0.0585 - root_mean_squared_error: 0.3116\n",
      "Epoch 23/25\n",
      "782/782 [==============================] - 7s 9ms/step - loss: 0.0583 - root_mean_squared_error: 0.3103\n",
      "Epoch 24/25\n",
      "782/782 [==============================] - 7s 9ms/step - loss: 0.0581 - root_mean_squared_error: 0.3086\n",
      "Epoch 25/25\n",
      "782/782 [==============================] - 7s 9ms/step - loss: 0.0580 - root_mean_squared_error: 0.3081\n"
     ]
    },
    {
     "data": {
      "text/plain": [
       "<keras.callbacks.History at 0x7f67ac44c310>"
      ]
     },
     "execution_count": 18,
     "metadata": {},
     "output_type": "execute_result"
    }
   ],
   "source": [
    "model.fit(X_train, y_train, batch_size=128, epochs=25)"
   ]
  },
  {
   "cell_type": "code",
   "execution_count": 19,
   "id": "267e2d6b",
   "metadata": {
    "cellId": "4e7pkuyk7m8ukbq6cx6opb"
   },
   "outputs": [
    {
     "name": "stderr",
     "output_type": "stream",
     "text": [
      "Failed to deserialize variable 'model'. Run the following code to delete it:\n",
      "  del_datasphere_variables('model')\n",
      "Traceback (most recent call last):\n",
      "  File \"/kernel/lib/python3.10/site-packages/ml_kernel/state/state_protocol.py\", line 283, in _load_component\n",
      "    value = unpickler.load()\n",
      "  File \"/kernel/lib/python3.10/site-packages/ipystate/impl/dispatch/tensorflow.py\", line 74, in _load_model\n",
      "    restored_model = tf.keras.models.load_model(model_path)\n",
      "  File \"/usr/local/lib/python3.10/dist-packages/keras/saving/saving_api.py\", line 212, in load_model\n",
      "    return legacy_sm_saving_lib.load_model(\n",
      "  File \"/usr/local/lib/python3.10/dist-packages/keras/utils/traceback_utils.py\", line 70, in error_handler\n",
      "    raise e.with_traceback(filtered_tb) from None\n",
      "  File \"/usr/local/lib/python3.10/dist-packages/keras/saving/legacy/serialization.py\", line 543, in deserialize_keras_object\n",
      "    raise ValueError(\n",
      "ValueError: Unknown loss function: 'quantile_loss_25'. Please ensure you are using a `keras.utils.custom_object_scope` and that this object is included in the scope. See https://www.tensorflow.org/guide/keras/save_and_serialize#registering_the_custom_object for details.\n",
      "\n",
      "The above exception was the direct cause of the following exception:\n",
      "\n",
      "ml_kernel.state.state_protocol.KernelStateProtocol.DeserializationException: ['model']\n"
     ]
    },
    {
     "name": "stdout",
     "output_type": "stream",
     "text": [
      "3125/3125 [==============================] - 4s 1ms/step\n"
     ]
    }
   ],
   "source": [
    "pred = model.predict(X_test)"
   ]
  },
  {
   "cell_type": "code",
   "execution_count": 20,
   "id": "def371f8",
   "metadata": {
    "cellId": "wuor63ghegmprzxn95pz5"
   },
   "outputs": [],
   "source": [
    "np.save('test_pred_025', pred)"
   ]
  },
  {
   "cell_type": "code",
   "execution_count": 21,
   "id": "516ea1b9",
   "metadata": {
    "cellId": "gw1hmoyeiotdedf02l79l"
   },
   "outputs": [
    {
     "name": "stderr",
     "output_type": "stream",
     "text": [
      "Failed to deserialize variable 'model'. Run the following code to delete it:\n",
      "  del_datasphere_variables('model')\n",
      "Traceback (most recent call last):\n",
      "  File \"/kernel/lib/python3.10/site-packages/ml_kernel/state/state_protocol.py\", line 283, in _load_component\n",
      "    value = unpickler.load()\n",
      "  File \"/kernel/lib/python3.10/site-packages/ipystate/impl/dispatch/tensorflow.py\", line 74, in _load_model\n",
      "    restored_model = tf.keras.models.load_model(model_path)\n",
      "  File \"/usr/local/lib/python3.10/dist-packages/keras/saving/saving_api.py\", line 212, in load_model\n",
      "    return legacy_sm_saving_lib.load_model(\n",
      "  File \"/usr/local/lib/python3.10/dist-packages/keras/utils/traceback_utils.py\", line 70, in error_handler\n",
      "    raise e.with_traceback(filtered_tb) from None\n",
      "  File \"/usr/local/lib/python3.10/dist-packages/keras/saving/legacy/serialization.py\", line 543, in deserialize_keras_object\n",
      "    raise ValueError(\n",
      "ValueError: Unknown loss function: 'quantile_loss_25'. Please ensure you are using a `keras.utils.custom_object_scope` and that this object is included in the scope. See https://www.tensorflow.org/guide/keras/save_and_serialize#registering_the_custom_object for details.\n",
      "\n",
      "The above exception was the direct cause of the following exception:\n",
      "\n",
      "ml_kernel.state.state_protocol.KernelStateProtocol.DeserializationException: ['model']\n"
     ]
    }
   ],
   "source": [
    "model.save(\"model_025.h5\")"
   ]
  },
  {
   "cell_type": "code",
   "execution_count": null,
   "id": "a1c8260a",
   "metadata": {
    "cellId": "ijn7vpproytf27ppgaxwq"
   },
   "outputs": [],
   "source": []
  }
 ],
 "metadata": {
  "kernelspec": {
   "display_name": "venv",
   "language": "python",
   "name": "python3"
  },
  "language_info": {
   "codemirror_mode": {
    "name": "ipython",
    "version": 3
   },
   "file_extension": ".py",
   "mimetype": "text/x-python",
   "name": "python",
   "nbconvert_exporter": "python",
   "pygments_lexer": "ipython3",
   "version": "3.11.2"
  },
  "notebookId": "0c1bc683-e21a-4b23-8dba-70c830406846",
  "notebookPath": "models/model_025.ipynb"
 },
 "nbformat": 4,
 "nbformat_minor": 5
}
